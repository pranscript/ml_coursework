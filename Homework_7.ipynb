{
  "nbformat": 4,
  "nbformat_minor": 0,
  "metadata": {
    "colab": {
      "name": "Homework 7.ipynb",
      "provenance": [],
      "authorship_tag": "ABX9TyNj78f6JMEJZ46hEk0Uct76",
      "include_colab_link": true
    },
    "kernelspec": {
      "name": "python3",
      "display_name": "Python 3"
    }
  },
  "cells": [
    {
      "cell_type": "markdown",
      "metadata": {
        "id": "view-in-github",
        "colab_type": "text"
      },
      "source": [
        "<a href=\"https://colab.research.google.com/github/pranscript/ml_coursework/blob/master/Homework_7.ipynb\" target=\"_parent\"><img src=\"https://colab.research.google.com/assets/colab-badge.svg\" alt=\"Open In Colab\"/></a>"
      ]
    },
    {
      "cell_type": "code",
      "metadata": {
        "id": "1tyc0ep0nqRa",
        "colab_type": "code",
        "colab": {}
      },
      "source": [
        "import numpy\n",
        "!pip install scikit-surprise "
      ],
      "execution_count": 0,
      "outputs": []
    },
    {
      "cell_type": "code",
      "metadata": {
        "id": "FTt0hvKonwOI",
        "colab_type": "code",
        "colab": {}
      },
      "source": [
        "from surprise import SVD\n",
        "from surprise import NMF\n",
        "from surprise import KNNBasic\n",
        "from surprise import Dataset\n",
        "from surprise import accuracy\n",
        "from surprise.model_selection import KFold\n",
        "from surprise.model_selection import cross_validate\n",
        "from surprise import Reader\n",
        "import os\n",
        "#load data from a file\n",
        "file_path = os.path.expanduser('restaurant_ratings.txt')\n",
        "reader = Reader(line_format='user item rating timestamp', sep='\\t')\n",
        "data = Dataset.load_from_file(file_path, reader=reader)"
      ],
      "execution_count": 0,
      "outputs": []
    },
    {
      "cell_type": "markdown",
      "metadata": {
        "id": "MN-eFtOeqEdI",
        "colab_type": "text"
      },
      "source": [
        "**ANS 5: MAE and RMSE of the SVD (Singular Value Decomposition) algorithm**"
      ]
    },
    {
      "cell_type": "code",
      "metadata": {
        "id": "ep2bsFdnoMyI",
        "colab_type": "code",
        "outputId": "f213f176-368f-4fb0-de12-145b51bd90db",
        "colab": {
          "base_uri": "https://localhost:8080/",
          "height": 52
        }
      },
      "source": [
        "splits = 3;\n",
        "kf = KFold(n_splits=splits)\n",
        "meanRMSE = 0;\n",
        "meanMAE = 0;\n",
        "algo = SVD()\n",
        "for trainset, testset in kf.split(data):\n",
        "  algo.fit(trainset)\n",
        "  predictions = algo.test(testset)\n",
        "  meanRMSE = meanRMSE + accuracy.rmse(predictions, verbose=False)\n",
        "  meanMAE = meanMAE + accuracy.mae(predictions, verbose=False)\n",
        "print(\"Mean RMSE is - \",meanRMSE/splits)\n",
        "print(\"Mean MAE is - \",meanMAE/splits)"
      ],
      "execution_count": 29,
      "outputs": [
        {
          "output_type": "stream",
          "text": [
            "Mean RMSE is -  0.9461391246736829\n",
            "Mean MAE is -  0.7469418851548396\n"
          ],
          "name": "stdout"
        }
      ]
    },
    {
      "cell_type": "markdown",
      "metadata": {
        "id": "tVtYy7KD_3bU",
        "colab_type": "text"
      },
      "source": [
        "**Ans 6: Compute the MAE and RMSE of the PMF\n",
        "(Probabilistic Matrix Factorization) algorithm**"
      ]
    },
    {
      "cell_type": "code",
      "metadata": {
        "id": "rAAa5GrYrqDA",
        "colab_type": "code",
        "outputId": "436e66e4-3d2c-41ba-9c15-46fb7ea5ddf7",
        "colab": {
          "base_uri": "https://localhost:8080/",
          "height": 52
        }
      },
      "source": [
        "splits = 3;\n",
        "kf = KFold(n_splits=splits)\n",
        "meanRMSE = 0;\n",
        "meanMAE = 0;\n",
        "algo = SVD(biased=False)\n",
        "for trainset, testset in kf.split(data):\n",
        "  algo.fit(trainset)\n",
        "  predictions = algo.test(testset)\n",
        "  meanRMSE = meanRMSE + accuracy.rmse(predictions, verbose=False)\n",
        "  meanMAE = meanMAE + accuracy.mae(predictions, verbose=False)\n",
        "print(\"Mean RMSE is - \",meanRMSE/splits)\n",
        "print(\"Mean MAE is - \",meanMAE/splits)"
      ],
      "execution_count": 30,
      "outputs": [
        {
          "output_type": "stream",
          "text": [
            "Mean RMSE is -  0.9688364391386637\n",
            "Mean MAE is -  0.7628086536491162\n"
          ],
          "name": "stdout"
        }
      ]
    },
    {
      "cell_type": "markdown",
      "metadata": {
        "id": "5j0vQzVWr0P1",
        "colab_type": "text"
      },
      "source": [
        "**Ans 7: Compute the MAE and RMSE of the NMF\n",
        "(Non-negative Matrix Factorization) algorithm**"
      ]
    },
    {
      "cell_type": "code",
      "metadata": {
        "id": "Ur01MGEmr3UK",
        "colab_type": "code",
        "outputId": "4cee3a68-1f3f-42d5-f5cf-963ad2e3ffde",
        "colab": {
          "base_uri": "https://localhost:8080/",
          "height": 52
        }
      },
      "source": [
        "splits = 3;\n",
        "kf = KFold(n_splits=splits)\n",
        "meanRMSE = 0;\n",
        "meanMAE = 0;\n",
        "algo = NMF()\n",
        "for trainset, testset in kf.split(data):\n",
        "  algo.fit(trainset)\n",
        "  predictions = algo.test(testset)\n",
        "  meanRMSE = meanRMSE + accuracy.rmse(predictions, verbose=False)\n",
        "  meanMAE = meanMAE + accuracy.mae(predictions, verbose=False)\n",
        "print(\"Mean RMSE is - \",meanRMSE/splits)\n",
        "print(\"Mean MAE is - \",meanMAE/splits)"
      ],
      "execution_count": 31,
      "outputs": [
        {
          "output_type": "stream",
          "text": [
            "Mean RMSE is -  0.9762111738852647\n",
            "Mean MAE is -  0.7670411772595792\n"
          ],
          "name": "stdout"
        }
      ]
    },
    {
      "cell_type": "markdown",
      "metadata": {
        "id": "UptoAaZlsEwY",
        "colab_type": "text"
      },
      "source": [
        "**Ans 8: Compute the MAE and RMSE of the User\n",
        "based Collaborative Filtering algorithm**"
      ]
    },
    {
      "cell_type": "code",
      "metadata": {
        "id": "OQ8Jlc6zsGLu",
        "colab_type": "code",
        "outputId": "2a084078-41da-49fb-d2bd-4699113e1ef0",
        "colab": {
          "base_uri": "https://localhost:8080/",
          "height": 158
        }
      },
      "source": [
        "splits = 3;\n",
        "kf = KFold(n_splits=splits)\n",
        "meanRMSE = 0;\n",
        "meanMAE = 0;\n",
        "algo = KNNBasic(sim_options = {\n",
        " 'user_based': True\n",
        " })\n",
        "for trainset, testset in kf.split(data):\n",
        "  algo.fit(trainset)\n",
        "  predictions = algo.test(testset)\n",
        "  meanRMSE = meanRMSE + accuracy.rmse(predictions, verbose=False)\n",
        "  meanMAE = meanMAE + accuracy.mae(predictions, verbose=False)\n",
        "print(\"Mean RMSE is - \",meanRMSE/splits)\n",
        "print(\"Mean MAE is - \",meanMAE/splits)"
      ],
      "execution_count": 32,
      "outputs": [
        {
          "output_type": "stream",
          "text": [
            "Computing the msd similarity matrix...\n",
            "Done computing similarity matrix.\n",
            "Computing the msd similarity matrix...\n",
            "Done computing similarity matrix.\n",
            "Computing the msd similarity matrix...\n",
            "Done computing similarity matrix.\n",
            "Mean RMSE is -  0.9876360415218453\n",
            "Mean MAE is -  0.7806726727155077\n"
          ],
          "name": "stdout"
        }
      ]
    },
    {
      "cell_type": "markdown",
      "metadata": {
        "id": "F9ofGq8OsV2O",
        "colab_type": "text"
      },
      "source": [
        "**Ans 9:Compute the MAE and RMSE of the Item\n",
        "based Collaborative Filtering algorithm**"
      ]
    },
    {
      "cell_type": "code",
      "metadata": {
        "id": "n1Q5xIplsXPN",
        "colab_type": "code",
        "outputId": "086869ec-794f-4eca-8264-2bcf8800327c",
        "colab": {
          "base_uri": "https://localhost:8080/",
          "height": 316
        }
      },
      "source": [
        "splits = 3;\n",
        "kf = KFold(n_splits=splits)\n",
        "meanRMSE = 0;\n",
        "meanMAE = 0;\n",
        "algo = KNNBasic(sim_options = {\n",
        " 'user_based': False\n",
        " })\n",
        "for trainset, testset in kf.split(data):\n",
        "  algo.fit(trainset)\n",
        "  print(trainset)\n",
        "  predictions = algo.test(testset)\n",
        "  meanRMSE = meanRMSE + accuracy.rmse(predictions, verbose=True)\n",
        "  meanMAE = meanMAE + accuracy.mae(predictions, verbose=True)\n",
        "print(\"Mean RMSE is - \",meanRMSE/splits)\n",
        "print(\"Mean MAE is - \",meanMAE/splits)"
      ],
      "execution_count": 33,
      "outputs": [
        {
          "output_type": "stream",
          "text": [
            "Computing the msd similarity matrix...\n",
            "Done computing similarity matrix.\n",
            "<surprise.trainset.Trainset object at 0x7f5dd472b470>\n",
            "RMSE: 0.9834\n",
            "MAE:  0.7803\n",
            "Computing the msd similarity matrix...\n",
            "Done computing similarity matrix.\n",
            "<surprise.trainset.Trainset object at 0x7f5df7fa1320>\n",
            "RMSE: 0.9855\n",
            "MAE:  0.7808\n",
            "Computing the msd similarity matrix...\n",
            "Done computing similarity matrix.\n",
            "<surprise.trainset.Trainset object at 0x7f5dd2739a90>\n",
            "RMSE: 0.9890\n",
            "MAE:  0.7823\n",
            "Mean RMSE is -  0.9859508208402726\n",
            "Mean MAE is -  0.7811283517321658\n"
          ],
          "name": "stdout"
        }
      ]
    },
    {
      "cell_type": "markdown",
      "metadata": {
        "id": "Ca-dyt_Vs2Mn",
        "colab_type": "text"
      },
      "source": [
        "**Ans 10: Compare the performances of User-based collaborative filtering, item-based collaborative\n",
        "filtering, SVD, PMF, NMF on fold-1 with respect to RMSE and MAE**"
      ]
    },
    {
      "cell_type": "code",
      "metadata": {
        "id": "eNnUTldas38d",
        "colab_type": "code",
        "colab": {}
      },
      "source": [
        "oneFold = 1;\n",
        "kf = KFold(n_splits=oneFold)\n",
        "list=[\"SVD\",\"PMF\",\"NMF\",\"USERBASED\",\"ITEMBASED\"]\n"
      ],
      "execution_count": 0,
      "outputs": []
    },
    {
      "cell_type": "code",
      "metadata": {
        "id": "aooBPsPNBG4N",
        "colab_type": "code",
        "colab": {
          "base_uri": "https://localhost:8080/",
          "height": 263
        },
        "outputId": "e8d9101e-03ab-47fa-966a-bc35283ac9e0"
      },
      "source": [
        "for trainset, testset in kf.split(data):\n",
        "  for i in list:\n",
        "    train = trainset\n",
        "    test = testset\n",
        "    meanRMSE = 0;\n",
        "    meanMAE = 0;\n",
        "    algo =NMF()\n",
        "    if i==\"USERBASED\":\n",
        "      algo = KNNBasic(sim_options = {'user_based': True})\n",
        "    elif i==\"ITEMBASED\":\n",
        "      algo = KNNBasic(sim_options = {'user_based': False})\n",
        "    elif i==\"SVD\":\n",
        "      algo = SVD()\n",
        "    elif i==\"PMF\":\n",
        "      algo = SVD(biased=False)\n",
        "    algo.fit(train)\n",
        "    predictions = algo.test(test)\n",
        "    print(\"RMSE for \",i,\" is \",accuracy.rmse(predictions, verbose=False))\n",
        "    print(\"MAE for \",i ,\" is - \",accuracy.mae(predictions, verbose=False))\n",
        "  break;\n"
      ],
      "execution_count": 36,
      "outputs": [
        {
          "output_type": "stream",
          "text": [
            "RMSE for  SVD  is  0.9565343107787299\n",
            "MAE for  SVD  is -  0.7551149053710124\n",
            "RMSE for  PMF  is  0.9991845077178072\n",
            "MAE for  PMF  is -  0.7884668856261288\n",
            "RMSE for  NMF  is  0.9972716043791015\n",
            "MAE for  NMF  is -  0.7826075974377034\n",
            "Computing the msd similarity matrix...\n",
            "Done computing similarity matrix.\n",
            "RMSE for  USERBASED  is  1.0029670698194078\n",
            "MAE for  USERBASED  is -  0.7920659345053462\n",
            "Computing the msd similarity matrix...\n",
            "Done computing similarity matrix.\n",
            "RMSE for  ITEMBASED  is  1.0058230619669115\n",
            "MAE for  ITEMBASED  is -  0.7979401770771852\n"
          ],
          "name": "stdout"
        }
      ]
    },
    {
      "cell_type": "markdown",
      "metadata": {
        "id": "5oublwziNsOL",
        "colab_type": "text"
      },
      "source": [
        "**Ans 11: Compare the performances of User-based collaborative filtering, item-based collaborative\n",
        "filtering, SVD, PMF, NMF on fold-2 with respect to RMSE and MAE**"
      ]
    },
    {
      "cell_type": "code",
      "metadata": {
        "id": "-TsiAdM3NwpD",
        "colab_type": "code",
        "colab": {
          "base_uri": "https://localhost:8080/",
          "height": 257
        },
        "outputId": "4e2ff5b5-3f07-4d96-af92-0559cf76121d"
      },
      "source": [
        "from array import *\n",
        "twoFold = 2;\n",
        "kf = KFold(n_splits=twoFold)\n",
        "list=[\"SVD\",\"PMF\",\"NMF\",\"USERBASED\",\"ITEMBASED\"]\n",
        "meanRMSE = array('f',[0.0, 0.0, 0.0, 0.0, 0.0]) \n",
        "meanMAE = array('f',[0.0, 0.0, 0.0, 0.0, 0.0]) \n",
        "print(meanMAE[0])\n",
        "for trainset, testset in kf.split(data):\n",
        "  for i in list:\n",
        "    train = trainset\n",
        "    test = testset\n",
        "    meanRMSE = 0;\n",
        "    meanMAE = 0;\n",
        "    algo =NMF()\n",
        "    if i==\"USERBASED\":\n",
        "      algo = KNNBasic(sim_options = {'user_based': True})\n",
        "    elif i==\"ITEMBASED\":\n",
        "      algo = KNNBasic(sim_options = {'user_based': False})\n",
        "    elif i==\"SVD\":\n",
        "      algo = SVD()\n",
        "    elif i==\"PMF\":\n",
        "      algo = SVD(biased=False)\n",
        "    algo.fit(train)\n",
        "    predictions = algo.test(test)\n",
        "    #print(accuracy.rmse(predictions, verbose=False))\n",
        "    meanRMSE[].insert(i,(meanRMSE.index(i) + (accuracy.rmse(predictions, verbose=False)/2.0)))\n",
        "    meanMAE.insert(i,(meanMAE.index(i) + (accuracy.mae(predictions, verbose=False)/2.0)))\n",
        "for i in range(0,5):\n",
        "  print(\"RMSE for \",list[i],\" is \",meanRMSE[i])\n",
        "  print(\"MAE for \",list[i],\" is - \",meanMAE[i])"
      ],
      "execution_count": 52,
      "outputs": [
        {
          "output_type": "stream",
          "text": [
            "0.0\n"
          ],
          "name": "stdout"
        },
        {
          "output_type": "error",
          "ename": "AttributeError",
          "evalue": "ignored",
          "traceback": [
            "\u001b[0;31m---------------------------------------------------------------------------\u001b[0m",
            "\u001b[0;31mAttributeError\u001b[0m                            Traceback (most recent call last)",
            "\u001b[0;32m<ipython-input-52-6b213ab8d077>\u001b[0m in \u001b[0;36m<module>\u001b[0;34m()\u001b[0m\n\u001b[1;32m     24\u001b[0m     \u001b[0mpredictions\u001b[0m \u001b[0;34m=\u001b[0m \u001b[0malgo\u001b[0m\u001b[0;34m.\u001b[0m\u001b[0mtest\u001b[0m\u001b[0;34m(\u001b[0m\u001b[0mtest\u001b[0m\u001b[0;34m)\u001b[0m\u001b[0;34m\u001b[0m\u001b[0;34m\u001b[0m\u001b[0m\n\u001b[1;32m     25\u001b[0m     \u001b[0;31m#print(accuracy.rmse(predictions, verbose=False))\u001b[0m\u001b[0;34m\u001b[0m\u001b[0;34m\u001b[0m\u001b[0;34m\u001b[0m\u001b[0m\n\u001b[0;32m---> 26\u001b[0;31m     \u001b[0mmeanRMSE\u001b[0m\u001b[0;34m.\u001b[0m\u001b[0minsert\u001b[0m\u001b[0;34m(\u001b[0m\u001b[0mi\u001b[0m\u001b[0;34m,\u001b[0m\u001b[0;34m(\u001b[0m\u001b[0mmeanRMSE\u001b[0m\u001b[0;34m.\u001b[0m\u001b[0mindex\u001b[0m\u001b[0;34m(\u001b[0m\u001b[0mi\u001b[0m\u001b[0;34m)\u001b[0m \u001b[0;34m+\u001b[0m \u001b[0;34m(\u001b[0m\u001b[0maccuracy\u001b[0m\u001b[0;34m.\u001b[0m\u001b[0mrmse\u001b[0m\u001b[0;34m(\u001b[0m\u001b[0mpredictions\u001b[0m\u001b[0;34m,\u001b[0m \u001b[0mverbose\u001b[0m\u001b[0;34m=\u001b[0m\u001b[0;32mFalse\u001b[0m\u001b[0;34m)\u001b[0m\u001b[0;34m/\u001b[0m\u001b[0;36m2.0\u001b[0m\u001b[0;34m)\u001b[0m\u001b[0;34m)\u001b[0m\u001b[0;34m)\u001b[0m\u001b[0;34m\u001b[0m\u001b[0;34m\u001b[0m\u001b[0m\n\u001b[0m\u001b[1;32m     27\u001b[0m     \u001b[0mmeanMAE\u001b[0m\u001b[0;34m.\u001b[0m\u001b[0minsert\u001b[0m\u001b[0;34m(\u001b[0m\u001b[0mi\u001b[0m\u001b[0;34m,\u001b[0m\u001b[0;34m(\u001b[0m\u001b[0mmeanMAE\u001b[0m\u001b[0;34m.\u001b[0m\u001b[0mindex\u001b[0m\u001b[0;34m(\u001b[0m\u001b[0mi\u001b[0m\u001b[0;34m)\u001b[0m \u001b[0;34m+\u001b[0m \u001b[0;34m(\u001b[0m\u001b[0maccuracy\u001b[0m\u001b[0;34m.\u001b[0m\u001b[0mmae\u001b[0m\u001b[0;34m(\u001b[0m\u001b[0mpredictions\u001b[0m\u001b[0;34m,\u001b[0m \u001b[0mverbose\u001b[0m\u001b[0;34m=\u001b[0m\u001b[0;32mFalse\u001b[0m\u001b[0;34m)\u001b[0m\u001b[0;34m/\u001b[0m\u001b[0;36m2.0\u001b[0m\u001b[0;34m)\u001b[0m\u001b[0;34m)\u001b[0m\u001b[0;34m)\u001b[0m\u001b[0;34m\u001b[0m\u001b[0;34m\u001b[0m\u001b[0m\n\u001b[1;32m     28\u001b[0m \u001b[0;32mfor\u001b[0m \u001b[0mi\u001b[0m \u001b[0;32min\u001b[0m \u001b[0mrange\u001b[0m\u001b[0;34m(\u001b[0m\u001b[0;36m0\u001b[0m\u001b[0;34m,\u001b[0m\u001b[0;36m5\u001b[0m\u001b[0;34m)\u001b[0m\u001b[0;34m:\u001b[0m\u001b[0;34m\u001b[0m\u001b[0;34m\u001b[0m\u001b[0m\n",
            "\u001b[0;31mAttributeError\u001b[0m: 'int' object has no attribute 'insert'"
          ]
        }
      ]
    },
    {
      "cell_type": "markdown",
      "metadata": {
        "id": "gSAPyJcjqGb-",
        "colab_type": "text"
      },
      "source": [
        ""
      ]
    },
    {
      "cell_type": "markdown",
      "metadata": {
        "id": "KyBO_sBUqGkB",
        "colab_type": "text"
      },
      "source": [
        "------------------------------------------------------------------------------"
      ]
    },
    {
      "cell_type": "code",
      "metadata": {
        "id": "3CHgJ3NCowzd",
        "colab_type": "code",
        "outputId": "89b35d98-2dec-4f43-bad2-765529a1c2fa",
        "colab": {
          "base_uri": "https://localhost:8080/",
          "height": 210
        }
      },
      "source": [
        "algo = SVD()\n",
        "cross_validate(algo, data, measures=['RMSE', 'MAE'], cv=3, verbose=True)\n",
        "#perf = evaluate(algo, data, measures=['RMSE', 'MAE'])"
      ],
      "execution_count": 0,
      "outputs": [
        {
          "output_type": "stream",
          "text": [
            "Evaluating RMSE, MAE of algorithm SVD on 3 split(s).\n",
            "\n",
            "                  Fold 1  Fold 2  Fold 3  Mean    Std     \n",
            "RMSE (testset)    0.9530  0.9458  0.9378  0.9455  0.0062  \n",
            "MAE (testset)     0.7498  0.7469  0.7414  0.7460  0.0035  \n",
            "Fit time          4.15    4.13    4.16    4.15    0.01    \n",
            "Test time         0.23    0.31    0.31    0.28    0.04    \n"
          ],
          "name": "stdout"
        },
        {
          "output_type": "execute_result",
          "data": {
            "text/plain": [
              "{'fit_time': (4.151493072509766, 4.134579420089722, 4.162231922149658),\n",
              " 'test_mae': array([0.7497958 , 0.74691672, 0.74138811]),\n",
              " 'test_rmse': array([0.95298472, 0.94576377, 0.93779301]),\n",
              " 'test_time': (0.22522997856140137, 0.3091700077056885, 0.3124570846557617)}"
            ]
          },
          "metadata": {
            "tags": []
          },
          "execution_count": 6
        }
      ]
    },
    {
      "cell_type": "code",
      "metadata": {
        "id": "MmGgefDYoI0N",
        "colab_type": "code",
        "outputId": "cbe0b52a-ba4f-4abb-b489-7da59189b87f",
        "colab": {
          "base_uri": "https://localhost:8080/",
          "height": 210
        }
      },
      "source": [
        "algo = SVD(biased=False)\n",
        "cross_validate(algo, data, measures=['RMSE', 'MAE'], cv=3, verbose=True)"
      ],
      "execution_count": 0,
      "outputs": [
        {
          "output_type": "stream",
          "text": [
            "Evaluating RMSE, MAE of algorithm SVD on 3 split(s).\n",
            "\n",
            "                  Fold 1  Fold 2  Fold 3  Mean    Std     \n",
            "RMSE (testset)    0.9710  0.9643  0.9658  0.9670  0.0029  \n",
            "MAE (testset)     0.7665  0.7588  0.7627  0.7627  0.0032  \n",
            "Fit time          4.12    4.14    4.14    4.14    0.01    \n",
            "Test time         0.29    0.29    0.20    0.26    0.04    \n"
          ],
          "name": "stdout"
        },
        {
          "output_type": "execute_result",
          "data": {
            "text/plain": [
              "{'fit_time': (4.124703645706177, 4.142522096633911, 4.139865875244141),\n",
              " 'test_mae': array([0.76653836, 0.75875616, 0.7627255 ]),\n",
              " 'test_rmse': array([0.97100068, 0.96433865, 0.96578937]),\n",
              " 'test_time': (0.2895364761352539, 0.29051780700683594, 0.2035212516784668)}"
            ]
          },
          "metadata": {
            "tags": []
          },
          "execution_count": 12
        }
      ]
    },
    {
      "cell_type": "code",
      "metadata": {
        "id": "99zc7mBJp6Ic",
        "colab_type": "code",
        "outputId": "15493a16-f534-4c86-dd34-247b03496d36",
        "colab": {
          "base_uri": "https://localhost:8080/",
          "height": 210
        }
      },
      "source": [
        "algo = NMF()\n",
        "cross_validate(algo, data, measures=['RMSE', 'MAE'], cv=3, verbose=True)"
      ],
      "execution_count": 0,
      "outputs": [
        {
          "output_type": "stream",
          "text": [
            "Evaluating RMSE, MAE of algorithm NMF on 3 split(s).\n",
            "\n",
            "                  Fold 1  Fold 2  Fold 3  Mean    Std     \n",
            "RMSE (testset)    0.9708  0.9763  0.9768  0.9746  0.0027  \n",
            "MAE (testset)     0.7618  0.7663  0.7683  0.7655  0.0027  \n",
            "Fit time          4.41    4.44    4.42    4.42    0.01    \n",
            "Test time         0.28    0.26    0.28    0.28    0.01    \n"
          ],
          "name": "stdout"
        },
        {
          "output_type": "execute_result",
          "data": {
            "text/plain": [
              "{'fit_time': (4.412014007568359, 4.44442892074585, 4.415006160736084),\n",
              " 'test_mae': array([0.76183613, 0.76626815, 0.76832005]),\n",
              " 'test_rmse': array([0.97083019, 0.97625658, 0.97684656]),\n",
              " 'test_time': (0.282573938369751, 0.2638833522796631, 0.28267574310302734)}"
            ]
          },
          "metadata": {
            "tags": []
          },
          "execution_count": 15
        }
      ]
    },
    {
      "cell_type": "code",
      "metadata": {
        "id": "SGrQQBfEqEVx",
        "colab_type": "code",
        "outputId": "5c1ee409-0aa7-4939-876a-b3f17c982fa6",
        "colab": {
          "base_uri": "https://localhost:8080/",
          "height": 316
        }
      },
      "source": [
        "algo = KNNBasic(sim_options = {\n",
        " 'user_based': True\n",
        " })\n",
        "cross_validate(algo, data, measures=['RMSE', 'MAE'], cv=3, verbose=True)"
      ],
      "execution_count": 0,
      "outputs": [
        {
          "output_type": "stream",
          "text": [
            "Computing the msd similarity matrix...\n",
            "Done computing similarity matrix.\n",
            "Computing the msd similarity matrix...\n",
            "Done computing similarity matrix.\n",
            "Computing the msd similarity matrix...\n",
            "Done computing similarity matrix.\n",
            "Evaluating RMSE, MAE of algorithm KNNBasic on 3 split(s).\n",
            "\n",
            "                  Fold 1  Fold 2  Fold 3  Mean    Std     \n",
            "RMSE (testset)    0.9862  0.9909  0.9875  0.9882  0.0020  \n",
            "MAE (testset)     0.7790  0.7845  0.7800  0.7812  0.0024  \n",
            "Fit time          0.32    0.33    0.32    0.32    0.01    \n",
            "Test time         5.38    5.37    5.20    5.32    0.08    \n"
          ],
          "name": "stdout"
        },
        {
          "output_type": "execute_result",
          "data": {
            "text/plain": [
              "{'fit_time': (0.32007503509521484, 0.3337209224700928, 0.31695055961608887),\n",
              " 'test_mae': array([0.77902868, 0.78448342, 0.77998133]),\n",
              " 'test_rmse': array([0.98618122, 0.99089835, 0.98748646]),\n",
              " 'test_time': (5.3810930252075195, 5.373595714569092, 5.201241970062256)}"
            ]
          },
          "metadata": {
            "tags": []
          },
          "execution_count": 18
        }
      ]
    },
    {
      "cell_type": "code",
      "metadata": {
        "id": "XTRJciwWqaOs",
        "colab_type": "code",
        "outputId": "4a798915-246d-4243-b416-0cab76b394c2",
        "colab": {
          "base_uri": "https://localhost:8080/",
          "height": 316
        }
      },
      "source": [
        "algo = KNNBasic(sim_options = {\n",
        " 'user_based': False\n",
        " })\n",
        "cross_validate(algo, data, measures=['RMSE', 'MAE'], cv=3, verbose=True)"
      ],
      "execution_count": 0,
      "outputs": [
        {
          "output_type": "stream",
          "text": [
            "Computing the msd similarity matrix...\n",
            "Done computing similarity matrix.\n",
            "Computing the msd similarity matrix...\n",
            "Done computing similarity matrix.\n",
            "Computing the msd similarity matrix...\n",
            "Done computing similarity matrix.\n",
            "Evaluating RMSE, MAE of algorithm KNNBasic on 3 split(s).\n",
            "\n",
            "                  Fold 1  Fold 2  Fold 3  Mean    Std     \n",
            "RMSE (testset)    0.9839  0.9889  0.9874  0.9867  0.0021  \n",
            "MAE (testset)     0.7804  0.7813  0.7817  0.7811  0.0006  \n",
            "Fit time          0.42    0.49    0.37    0.43    0.05    \n",
            "Test time         6.03    5.95    5.92    5.97    0.05    \n"
          ],
          "name": "stdout"
        },
        {
          "output_type": "execute_result",
          "data": {
            "text/plain": [
              "{'fit_time': (0.4198038578033447, 0.48725056648254395, 0.36893773078918457),\n",
              " 'test_mae': array([0.78037255, 0.7812543 , 0.78171384]),\n",
              " 'test_rmse': array([0.98389252, 0.98888072, 0.98736657]),\n",
              " 'test_time': (6.033791780471802, 5.946828603744507, 5.923990249633789)}"
            ]
          },
          "metadata": {
            "tags": []
          },
          "execution_count": 19
        }
      ]
    },
    {
      "cell_type": "code",
      "metadata": {
        "id": "Jm69OjzPqm5g",
        "colab_type": "code",
        "colab": {}
      },
      "source": [
        "algo = KNNBasic(sim_options = {\n",
        " 'name':’MSD’,\n",
        " 'user_based': True\n",
        "})\n",
        "cross_validate(algo, data, measures=['RMSE', 'MAE'], cv=3, verbose=True)"
      ],
      "execution_count": 0,
      "outputs": []
    },
    {
      "cell_type": "code",
      "metadata": {
        "id": "fOQ_jRphq-4X",
        "colab_type": "code",
        "colab": {}
      },
      "source": [
        "algo = KNNBasic(sim_options = {\n",
        " 'name':’cosine’,\n",
        " 'user_based': True\n",
        "}) \n",
        "cross_validate(algo, data, measures=['RMSE', 'MAE'], cv=3, verbose=True)"
      ],
      "execution_count": 0,
      "outputs": []
    },
    {
      "cell_type": "code",
      "metadata": {
        "id": "sgxpB9RFrCSC",
        "colab_type": "code",
        "colab": {}
      },
      "source": [
        "algo = KNNBasic(sim_options = {\n",
        " 'name':’pearson’,\n",
        " 'user_based': True\n",
        "})  \n",
        "cross_validate(algo, data, measures=['RMSE', 'MAE'], cv=3, verbose=True)"
      ],
      "execution_count": 0,
      "outputs": []
    },
    {
      "cell_type": "code",
      "metadata": {
        "id": "b9erpHtJrXQV",
        "colab_type": "code",
        "colab": {}
      },
      "source": [
        "algo = KNNBasic(sim_options = {\n",
        " 'name':’MSD’,\n",
        " 'user_based': False\n",
        "})\n",
        "cross_validate(algo, data, measures=['RMSE', 'MAE'], cv=3, verbose=True)"
      ],
      "execution_count": 0,
      "outputs": []
    },
    {
      "cell_type": "code",
      "metadata": {
        "id": "YyTJpGjarbqz",
        "colab_type": "code",
        "colab": {}
      },
      "source": [
        "algo = KNNBasic(sim_options = {\n",
        " 'name':’cosine’,\n",
        " 'user_based': False\n",
        "}) \n",
        "cross_validate(algo, data, measures=['RMSE', 'MAE'], cv=3, verbose=True)"
      ],
      "execution_count": 0,
      "outputs": []
    },
    {
      "cell_type": "code",
      "metadata": {
        "id": "j9o2WF_FrcB5",
        "colab_type": "code",
        "colab": {}
      },
      "source": [
        "algo = KNNBasic(sim_options = {\n",
        " 'name':’pearson’,\n",
        " 'user_based': False\n",
        "})  \n",
        "cross_validate(algo, data, measures=['RMSE', 'MAE'], cv=3, verbose=True)"
      ],
      "execution_count": 0,
      "outputs": []
    },
    {
      "cell_type": "code",
      "metadata": {
        "id": "Zi1JZPZ7rcEq",
        "colab_type": "code",
        "colab": {}
      },
      "source": [
        ""
      ],
      "execution_count": 0,
      "outputs": []
    },
    {
      "cell_type": "code",
      "metadata": {
        "id": "BEvTFiAjrcJh",
        "colab_type": "code",
        "colab": {}
      },
      "source": [
        ""
      ],
      "execution_count": 0,
      "outputs": []
    },
    {
      "cell_type": "code",
      "metadata": {
        "id": "N_Z5uc_frcHU",
        "colab_type": "code",
        "colab": {}
      },
      "source": [
        ""
      ],
      "execution_count": 0,
      "outputs": []
    }
  ]
}