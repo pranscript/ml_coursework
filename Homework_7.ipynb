{
  "nbformat": 4,
  "nbformat_minor": 0,
  "metadata": {
    "colab": {
      "name": "Homework 7.ipynb",
      "provenance": [],
      "authorship_tag": "ABX9TyPzu7D52XMKRz9lswTOutBA",
      "include_colab_link": true
    },
    "kernelspec": {
      "name": "python3",
      "display_name": "Python 3"
    }
  },
  "cells": [
    {
      "cell_type": "markdown",
      "metadata": {
        "id": "view-in-github",
        "colab_type": "text"
      },
      "source": [
        "<a href=\"https://colab.research.google.com/github/pranscript/ml_coursework/blob/master/Homework_7.ipynb\" target=\"_parent\"><img src=\"https://colab.research.google.com/assets/colab-badge.svg\" alt=\"Open In Colab\"/></a>"
      ]
    },
    {
      "cell_type": "code",
      "metadata": {
        "id": "1tyc0ep0nqRa",
        "colab_type": "code",
        "colab": {
          "base_uri": "https://localhost:8080/",
          "height": 283
        },
        "outputId": "d52e1680-2335-451f-bd7c-5b3ebbfda7c9"
      },
      "source": [
        "import numpy\n",
        "!pip install scikit-surprise "
      ],
      "execution_count": 1,
      "outputs": [
        {
          "output_type": "stream",
          "text": [
            "Collecting scikit-surprise\n",
            "\u001b[?25l  Downloading https://files.pythonhosted.org/packages/f5/da/b5700d96495fb4f092be497f02492768a3d96a3f4fa2ae7dea46d4081cfa/scikit-surprise-1.1.0.tar.gz (6.4MB)\n",
            "\u001b[K     |████████████████████████████████| 6.5MB 2.8MB/s \n",
            "\u001b[?25hRequirement already satisfied: joblib>=0.11 in /usr/local/lib/python3.6/dist-packages (from scikit-surprise) (0.14.1)\n",
            "Requirement already satisfied: numpy>=1.11.2 in /usr/local/lib/python3.6/dist-packages (from scikit-surprise) (1.18.2)\n",
            "Requirement already satisfied: scipy>=1.0.0 in /usr/local/lib/python3.6/dist-packages (from scikit-surprise) (1.4.1)\n",
            "Requirement already satisfied: six>=1.10.0 in /usr/local/lib/python3.6/dist-packages (from scikit-surprise) (1.12.0)\n",
            "Building wheels for collected packages: scikit-surprise\n",
            "  Building wheel for scikit-surprise (setup.py) ... \u001b[?25l\u001b[?25hdone\n",
            "  Created wheel for scikit-surprise: filename=scikit_surprise-1.1.0-cp36-cp36m-linux_x86_64.whl size=1678152 sha256=a652dd62fa77cd9763d732f42705e51403e4729edaff34197875252115ae2a6d\n",
            "  Stored in directory: /root/.cache/pip/wheels/cc/fa/8c/16c93fccce688ae1bde7d979ff102f7bee980d9cfeb8641bcf\n",
            "Successfully built scikit-surprise\n",
            "Installing collected packages: scikit-surprise\n",
            "Successfully installed scikit-surprise-1.1.0\n"
          ],
          "name": "stdout"
        }
      ]
    },
    {
      "cell_type": "code",
      "metadata": {
        "id": "FTt0hvKonwOI",
        "colab_type": "code",
        "colab": {}
      },
      "source": [
        "from surprise import SVD\n",
        "from surprise import NMF\n",
        "from surprise import KNNBasic\n",
        "from surprise import Dataset\n",
        "from surprise.model_selection import cross_validate\n",
        "from surprise import Reader\n",
        "import os\n",
        "#load data from a file\n",
        "file_path = os.path.expanduser('restaurant_ratings.txt')\n",
        "reader = Reader(line_format='user item rating timestamp', sep='\\t')\n",
        "data = Dataset.load_from_file(file_path, reader=reader)"
      ],
      "execution_count": 0,
      "outputs": []
    },
    {
      "cell_type": "code",
      "metadata": {
        "id": "3CHgJ3NCowzd",
        "colab_type": "code",
        "colab": {
          "base_uri": "https://localhost:8080/",
          "height": 210
        },
        "outputId": "4ff0ce40-db1d-430c-8694-c679326acee5"
      },
      "source": [
        "#data.split(n_folds=3)\n",
        "algo = SVD()\n",
        "cross_validate(algo, data, measures=['RMSE', 'MAE'], cv=3, verbose=True)\n",
        "#perf = evaluate(algo, data, measures=['RMSE', 'MAE'])"
      ],
      "execution_count": 11,
      "outputs": [
        {
          "output_type": "stream",
          "text": [
            "Evaluating RMSE, MAE of algorithm SVD on 3 split(s).\n",
            "\n",
            "                  Fold 1  Fold 2  Fold 3  Mean    Std     \n",
            "RMSE (testset)    0.9457  0.9427  0.9503  0.9462  0.0031  \n",
            "MAE (testset)     0.7457  0.7448  0.7488  0.7464  0.0017  \n",
            "Fit time          4.15    4.21    4.17    4.18    0.03    \n",
            "Test time         0.34    0.31    0.32    0.32    0.01    \n"
          ],
          "name": "stdout"
        },
        {
          "output_type": "execute_result",
          "data": {
            "text/plain": [
              "{'fit_time': (4.150992393493652, 4.211967468261719, 4.169641971588135),\n",
              " 'test_mae': array([0.74573584, 0.74476019, 0.74875879]),\n",
              " 'test_rmse': array([0.94567818, 0.94271825, 0.95028603]),\n",
              " 'test_time': (0.3403792381286621, 0.3143172264099121, 0.31566667556762695)}"
            ]
          },
          "metadata": {
            "tags": []
          },
          "execution_count": 11
        }
      ]
    },
    {
      "cell_type": "code",
      "metadata": {
        "id": "MmGgefDYoI0N",
        "colab_type": "code",
        "colab": {
          "base_uri": "https://localhost:8080/",
          "height": 210
        },
        "outputId": "cbe0b52a-ba4f-4abb-b489-7da59189b87f"
      },
      "source": [
        "algo = SVD(biased=False)\n",
        "cross_validate(algo, data, measures=['RMSE', 'MAE'], cv=3, verbose=True)"
      ],
      "execution_count": 12,
      "outputs": [
        {
          "output_type": "stream",
          "text": [
            "Evaluating RMSE, MAE of algorithm SVD on 3 split(s).\n",
            "\n",
            "                  Fold 1  Fold 2  Fold 3  Mean    Std     \n",
            "RMSE (testset)    0.9710  0.9643  0.9658  0.9670  0.0029  \n",
            "MAE (testset)     0.7665  0.7588  0.7627  0.7627  0.0032  \n",
            "Fit time          4.12    4.14    4.14    4.14    0.01    \n",
            "Test time         0.29    0.29    0.20    0.26    0.04    \n"
          ],
          "name": "stdout"
        },
        {
          "output_type": "execute_result",
          "data": {
            "text/plain": [
              "{'fit_time': (4.124703645706177, 4.142522096633911, 4.139865875244141),\n",
              " 'test_mae': array([0.76653836, 0.75875616, 0.7627255 ]),\n",
              " 'test_rmse': array([0.97100068, 0.96433865, 0.96578937]),\n",
              " 'test_time': (0.2895364761352539, 0.29051780700683594, 0.2035212516784668)}"
            ]
          },
          "metadata": {
            "tags": []
          },
          "execution_count": 12
        }
      ]
    },
    {
      "cell_type": "code",
      "metadata": {
        "id": "99zc7mBJp6Ic",
        "colab_type": "code",
        "colab": {
          "base_uri": "https://localhost:8080/",
          "height": 210
        },
        "outputId": "15493a16-f534-4c86-dd34-247b03496d36"
      },
      "source": [
        "algo = NMF()\n",
        "cross_validate(algo, data, measures=['RMSE', 'MAE'], cv=3, verbose=True)"
      ],
      "execution_count": 15,
      "outputs": [
        {
          "output_type": "stream",
          "text": [
            "Evaluating RMSE, MAE of algorithm NMF on 3 split(s).\n",
            "\n",
            "                  Fold 1  Fold 2  Fold 3  Mean    Std     \n",
            "RMSE (testset)    0.9708  0.9763  0.9768  0.9746  0.0027  \n",
            "MAE (testset)     0.7618  0.7663  0.7683  0.7655  0.0027  \n",
            "Fit time          4.41    4.44    4.42    4.42    0.01    \n",
            "Test time         0.28    0.26    0.28    0.28    0.01    \n"
          ],
          "name": "stdout"
        },
        {
          "output_type": "execute_result",
          "data": {
            "text/plain": [
              "{'fit_time': (4.412014007568359, 4.44442892074585, 4.415006160736084),\n",
              " 'test_mae': array([0.76183613, 0.76626815, 0.76832005]),\n",
              " 'test_rmse': array([0.97083019, 0.97625658, 0.97684656]),\n",
              " 'test_time': (0.282573938369751, 0.2638833522796631, 0.28267574310302734)}"
            ]
          },
          "metadata": {
            "tags": []
          },
          "execution_count": 15
        }
      ]
    },
    {
      "cell_type": "code",
      "metadata": {
        "id": "SGrQQBfEqEVx",
        "colab_type": "code",
        "colab": {
          "base_uri": "https://localhost:8080/",
          "height": 316
        },
        "outputId": "5c1ee409-0aa7-4939-876a-b3f17c982fa6"
      },
      "source": [
        "algo = KNNBasic(sim_options = {\n",
        " 'user_based': True\n",
        " })\n",
        "cross_validate(algo, data, measures=['RMSE', 'MAE'], cv=3, verbose=True)"
      ],
      "execution_count": 18,
      "outputs": [
        {
          "output_type": "stream",
          "text": [
            "Computing the msd similarity matrix...\n",
            "Done computing similarity matrix.\n",
            "Computing the msd similarity matrix...\n",
            "Done computing similarity matrix.\n",
            "Computing the msd similarity matrix...\n",
            "Done computing similarity matrix.\n",
            "Evaluating RMSE, MAE of algorithm KNNBasic on 3 split(s).\n",
            "\n",
            "                  Fold 1  Fold 2  Fold 3  Mean    Std     \n",
            "RMSE (testset)    0.9862  0.9909  0.9875  0.9882  0.0020  \n",
            "MAE (testset)     0.7790  0.7845  0.7800  0.7812  0.0024  \n",
            "Fit time          0.32    0.33    0.32    0.32    0.01    \n",
            "Test time         5.38    5.37    5.20    5.32    0.08    \n"
          ],
          "name": "stdout"
        },
        {
          "output_type": "execute_result",
          "data": {
            "text/plain": [
              "{'fit_time': (0.32007503509521484, 0.3337209224700928, 0.31695055961608887),\n",
              " 'test_mae': array([0.77902868, 0.78448342, 0.77998133]),\n",
              " 'test_rmse': array([0.98618122, 0.99089835, 0.98748646]),\n",
              " 'test_time': (5.3810930252075195, 5.373595714569092, 5.201241970062256)}"
            ]
          },
          "metadata": {
            "tags": []
          },
          "execution_count": 18
        }
      ]
    },
    {
      "cell_type": "code",
      "metadata": {
        "id": "XTRJciwWqaOs",
        "colab_type": "code",
        "colab": {
          "base_uri": "https://localhost:8080/",
          "height": 316
        },
        "outputId": "4a798915-246d-4243-b416-0cab76b394c2"
      },
      "source": [
        "algo = KNNBasic(sim_options = {\n",
        " 'user_based': False\n",
        " })\n",
        "cross_validate(algo, data, measures=['RMSE', 'MAE'], cv=3, verbose=True)"
      ],
      "execution_count": 19,
      "outputs": [
        {
          "output_type": "stream",
          "text": [
            "Computing the msd similarity matrix...\n",
            "Done computing similarity matrix.\n",
            "Computing the msd similarity matrix...\n",
            "Done computing similarity matrix.\n",
            "Computing the msd similarity matrix...\n",
            "Done computing similarity matrix.\n",
            "Evaluating RMSE, MAE of algorithm KNNBasic on 3 split(s).\n",
            "\n",
            "                  Fold 1  Fold 2  Fold 3  Mean    Std     \n",
            "RMSE (testset)    0.9839  0.9889  0.9874  0.9867  0.0021  \n",
            "MAE (testset)     0.7804  0.7813  0.7817  0.7811  0.0006  \n",
            "Fit time          0.42    0.49    0.37    0.43    0.05    \n",
            "Test time         6.03    5.95    5.92    5.97    0.05    \n"
          ],
          "name": "stdout"
        },
        {
          "output_type": "execute_result",
          "data": {
            "text/plain": [
              "{'fit_time': (0.4198038578033447, 0.48725056648254395, 0.36893773078918457),\n",
              " 'test_mae': array([0.78037255, 0.7812543 , 0.78171384]),\n",
              " 'test_rmse': array([0.98389252, 0.98888072, 0.98736657]),\n",
              " 'test_time': (6.033791780471802, 5.946828603744507, 5.923990249633789)}"
            ]
          },
          "metadata": {
            "tags": []
          },
          "execution_count": 19
        }
      ]
    },
    {
      "cell_type": "code",
      "metadata": {
        "id": "Jm69OjzPqm5g",
        "colab_type": "code",
        "colab": {}
      },
      "source": [
        "algo = KNNBasic(sim_options = {\n",
        " 'name':’MSD’,\n",
        " 'user_based': True\n",
        "})\n",
        "cross_validate(algo, data, measures=['RMSE', 'MAE'], cv=3, verbose=True)"
      ],
      "execution_count": 0,
      "outputs": []
    },
    {
      "cell_type": "code",
      "metadata": {
        "id": "fOQ_jRphq-4X",
        "colab_type": "code",
        "colab": {}
      },
      "source": [
        "algo = KNNBasic(sim_options = {\n",
        " 'name':’cosine’,\n",
        " 'user_based': True\n",
        "}) \n",
        "cross_validate(algo, data, measures=['RMSE', 'MAE'], cv=3, verbose=True)"
      ],
      "execution_count": 0,
      "outputs": []
    },
    {
      "cell_type": "code",
      "metadata": {
        "id": "sgxpB9RFrCSC",
        "colab_type": "code",
        "colab": {}
      },
      "source": [
        "algo = KNNBasic(sim_options = {\n",
        " 'name':’pearson’,\n",
        " 'user_based': True\n",
        "})  \n",
        "cross_validate(algo, data, measures=['RMSE', 'MAE'], cv=3, verbose=True)"
      ],
      "execution_count": 0,
      "outputs": []
    },
    {
      "cell_type": "code",
      "metadata": {
        "id": "b9erpHtJrXQV",
        "colab_type": "code",
        "colab": {}
      },
      "source": [
        "algo = KNNBasic(sim_options = {\n",
        " 'name':’MSD’,\n",
        " 'user_based': False\n",
        "})\n",
        "cross_validate(algo, data, measures=['RMSE', 'MAE'], cv=3, verbose=True)"
      ],
      "execution_count": 0,
      "outputs": []
    },
    {
      "cell_type": "code",
      "metadata": {
        "id": "YyTJpGjarbqz",
        "colab_type": "code",
        "colab": {}
      },
      "source": [
        "algo = KNNBasic(sim_options = {\n",
        " 'name':’cosine’,\n",
        " 'user_based': False\n",
        "}) \n",
        "cross_validate(algo, data, measures=['RMSE', 'MAE'], cv=3, verbose=True)"
      ],
      "execution_count": 0,
      "outputs": []
    },
    {
      "cell_type": "code",
      "metadata": {
        "id": "j9o2WF_FrcB5",
        "colab_type": "code",
        "colab": {}
      },
      "source": [
        "algo = KNNBasic(sim_options = {\n",
        " 'name':’pearson’,\n",
        " 'user_based': False\n",
        "})  \n",
        "cross_validate(algo, data, measures=['RMSE', 'MAE'], cv=3, verbose=True)"
      ],
      "execution_count": 0,
      "outputs": []
    },
    {
      "cell_type": "code",
      "metadata": {
        "id": "Zi1JZPZ7rcEq",
        "colab_type": "code",
        "colab": {}
      },
      "source": [
        ""
      ],
      "execution_count": 0,
      "outputs": []
    },
    {
      "cell_type": "code",
      "metadata": {
        "id": "BEvTFiAjrcJh",
        "colab_type": "code",
        "colab": {}
      },
      "source": [
        ""
      ],
      "execution_count": 0,
      "outputs": []
    },
    {
      "cell_type": "code",
      "metadata": {
        "id": "N_Z5uc_frcHU",
        "colab_type": "code",
        "colab": {}
      },
      "source": [
        ""
      ],
      "execution_count": 0,
      "outputs": []
    }
  ]
}