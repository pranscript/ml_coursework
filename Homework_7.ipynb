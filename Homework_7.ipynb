{
  "nbformat": 4,
  "nbformat_minor": 0,
  "metadata": {
    "colab": {
      "name": "Homework 7.ipynb",
      "provenance": [],
      "authorship_tag": "ABX9TyNl4EPjooxh9AETljD4/AEU",
      "include_colab_link": true
    },
    "kernelspec": {
      "name": "python3",
      "display_name": "Python 3"
    }
  },
  "cells": [
    {
      "cell_type": "markdown",
      "metadata": {
        "id": "view-in-github",
        "colab_type": "text"
      },
      "source": [
        "<a href=\"https://colab.research.google.com/github/pranscript/ml_coursework/blob/master/Homework_7.ipynb\" target=\"_parent\"><img src=\"https://colab.research.google.com/assets/colab-badge.svg\" alt=\"Open In Colab\"/></a>"
      ]
    },
    {
      "cell_type": "code",
      "metadata": {
        "id": "1tyc0ep0nqRa",
        "colab_type": "code",
        "colab": {}
      },
      "source": [
        "import numpy\n",
        "!pip install scikit-surprise "
      ],
      "execution_count": 0,
      "outputs": []
    },
    {
      "cell_type": "code",
      "metadata": {
        "id": "FTt0hvKonwOI",
        "colab_type": "code",
        "colab": {}
      },
      "source": [
        "from surprise import SVD\n",
        "from surprise import NMF\n",
        "from surprise import KNNBasic\n",
        "from surprise import Dataset\n",
        "from surprise import accuracy\n",
        "from surprise.model_selection import KFold\n",
        "from surprise.model_selection import cross_validate\n",
        "from surprise import Reader\n",
        "import os\n",
        "#load data from a file\n",
        "file_path = os.path.expanduser('restaurant_ratings.txt')\n",
        "reader = Reader(line_format='user item rating timestamp', sep='\\t')\n",
        "data = Dataset.load_from_file(file_path, reader=reader)"
      ],
      "execution_count": 0,
      "outputs": []
    },
    {
      "cell_type": "markdown",
      "metadata": {
        "id": "MN-eFtOeqEdI",
        "colab_type": "text"
      },
      "source": [
        "**ANS 5: MAE and RMSE of the SVD (Singular Value Decomposition) algorithm**"
      ]
    },
    {
      "cell_type": "code",
      "metadata": {
        "id": "ep2bsFdnoMyI",
        "colab_type": "code",
        "outputId": "f213f176-368f-4fb0-de12-145b51bd90db",
        "colab": {
          "base_uri": "https://localhost:8080/",
          "height": 52
        }
      },
      "source": [
        "splits = 3;\n",
        "kf = KFold(n_splits=splits)\n",
        "meanRMSE = 0;\n",
        "meanMAE = 0;\n",
        "algo = SVD()\n",
        "for trainset, testset in kf.split(data):\n",
        "  algo.fit(trainset)\n",
        "  predictions = algo.test(testset)\n",
        "  meanRMSE = meanRMSE + accuracy.rmse(predictions, verbose=False)\n",
        "  meanMAE = meanMAE + accuracy.mae(predictions, verbose=False)\n",
        "print(\"Mean RMSE is - \",meanRMSE/splits)\n",
        "print(\"Mean MAE is - \",meanMAE/splits)"
      ],
      "execution_count": 0,
      "outputs": [
        {
          "output_type": "stream",
          "text": [
            "Mean RMSE is -  0.9461391246736829\n",
            "Mean MAE is -  0.7469418851548396\n"
          ],
          "name": "stdout"
        }
      ]
    },
    {
      "cell_type": "markdown",
      "metadata": {
        "id": "tVtYy7KD_3bU",
        "colab_type": "text"
      },
      "source": [
        "**Ans 6: Compute the MAE and RMSE of the PMF\n",
        "(Probabilistic Matrix Factorization) algorithm**"
      ]
    },
    {
      "cell_type": "code",
      "metadata": {
        "id": "rAAa5GrYrqDA",
        "colab_type": "code",
        "outputId": "436e66e4-3d2c-41ba-9c15-46fb7ea5ddf7",
        "colab": {
          "base_uri": "https://localhost:8080/",
          "height": 52
        }
      },
      "source": [
        "splits = 3;\n",
        "kf = KFold(n_splits=splits)\n",
        "meanRMSE = 0;\n",
        "meanMAE = 0;\n",
        "algo = SVD(biased=False)\n",
        "for trainset, testset in kf.split(data):\n",
        "  algo.fit(trainset)\n",
        "  predictions = algo.test(testset)\n",
        "  meanRMSE = meanRMSE + accuracy.rmse(predictions, verbose=False)\n",
        "  meanMAE = meanMAE + accuracy.mae(predictions, verbose=False)\n",
        "print(\"Mean RMSE is - \",meanRMSE/splits)\n",
        "print(\"Mean MAE is - \",meanMAE/splits)"
      ],
      "execution_count": 0,
      "outputs": [
        {
          "output_type": "stream",
          "text": [
            "Mean RMSE is -  0.9688364391386637\n",
            "Mean MAE is -  0.7628086536491162\n"
          ],
          "name": "stdout"
        }
      ]
    },
    {
      "cell_type": "markdown",
      "metadata": {
        "id": "5j0vQzVWr0P1",
        "colab_type": "text"
      },
      "source": [
        "**Ans 7: Compute the MAE and RMSE of the NMF\n",
        "(Non-negative Matrix Factorization) algorithm**"
      ]
    },
    {
      "cell_type": "code",
      "metadata": {
        "id": "Ur01MGEmr3UK",
        "colab_type": "code",
        "outputId": "4cee3a68-1f3f-42d5-f5cf-963ad2e3ffde",
        "colab": {
          "base_uri": "https://localhost:8080/",
          "height": 52
        }
      },
      "source": [
        "splits = 3;\n",
        "kf = KFold(n_splits=splits)\n",
        "meanRMSE = 0;\n",
        "meanMAE = 0;\n",
        "algo = NMF()\n",
        "for trainset, testset in kf.split(data):\n",
        "  algo.fit(trainset)\n",
        "  predictions = algo.test(testset)\n",
        "  meanRMSE = meanRMSE + accuracy.rmse(predictions, verbose=False)\n",
        "  meanMAE = meanMAE + accuracy.mae(predictions, verbose=False)\n",
        "print(\"Mean RMSE is - \",meanRMSE/splits)\n",
        "print(\"Mean MAE is - \",meanMAE/splits)"
      ],
      "execution_count": 0,
      "outputs": [
        {
          "output_type": "stream",
          "text": [
            "Mean RMSE is -  0.9762111738852647\n",
            "Mean MAE is -  0.7670411772595792\n"
          ],
          "name": "stdout"
        }
      ]
    },
    {
      "cell_type": "markdown",
      "metadata": {
        "id": "UptoAaZlsEwY",
        "colab_type": "text"
      },
      "source": [
        "**Ans 8: Compute the MAE and RMSE of the User\n",
        "based Collaborative Filtering algorithm**"
      ]
    },
    {
      "cell_type": "code",
      "metadata": {
        "id": "OQ8Jlc6zsGLu",
        "colab_type": "code",
        "outputId": "2a084078-41da-49fb-d2bd-4699113e1ef0",
        "colab": {
          "base_uri": "https://localhost:8080/",
          "height": 158
        }
      },
      "source": [
        "splits = 3;\n",
        "kf = KFold(n_splits=splits)\n",
        "meanRMSE = 0;\n",
        "meanMAE = 0;\n",
        "algo = KNNBasic(sim_options = {\n",
        " 'user_based': True\n",
        " })\n",
        "for trainset, testset in kf.split(data):\n",
        "  algo.fit(trainset)\n",
        "  predictions = algo.test(testset)\n",
        "  meanRMSE = meanRMSE + accuracy.rmse(predictions, verbose=False)\n",
        "  meanMAE = meanMAE + accuracy.mae(predictions, verbose=False)\n",
        "print(\"Mean RMSE is - \",meanRMSE/splits)\n",
        "print(\"Mean MAE is - \",meanMAE/splits)"
      ],
      "execution_count": 0,
      "outputs": [
        {
          "output_type": "stream",
          "text": [
            "Computing the msd similarity matrix...\n",
            "Done computing similarity matrix.\n",
            "Computing the msd similarity matrix...\n",
            "Done computing similarity matrix.\n",
            "Computing the msd similarity matrix...\n",
            "Done computing similarity matrix.\n",
            "Mean RMSE is -  0.9876360415218453\n",
            "Mean MAE is -  0.7806726727155077\n"
          ],
          "name": "stdout"
        }
      ]
    },
    {
      "cell_type": "markdown",
      "metadata": {
        "id": "F9ofGq8OsV2O",
        "colab_type": "text"
      },
      "source": [
        "**Ans 9:Compute the MAE and RMSE of the Item\n",
        "based Collaborative Filtering algorithm**"
      ]
    },
    {
      "cell_type": "code",
      "metadata": {
        "id": "n1Q5xIplsXPN",
        "colab_type": "code",
        "outputId": "086869ec-794f-4eca-8264-2bcf8800327c",
        "colab": {
          "base_uri": "https://localhost:8080/",
          "height": 316
        }
      },
      "source": [
        "splits = 3;\n",
        "kf = KFold(n_splits=splits)\n",
        "meanRMSE = 0;\n",
        "meanMAE = 0;\n",
        "algo = KNNBasic(sim_options = {\n",
        " 'user_based': False\n",
        " })\n",
        "for trainset, testset in kf.split(data):\n",
        "  algo.fit(trainset)\n",
        "  print(trainset)\n",
        "  predictions = algo.test(testset)\n",
        "  meanRMSE = meanRMSE + accuracy.rmse(predictions, verbose=True)\n",
        "  meanMAE = meanMAE + accuracy.mae(predictions, verbose=True)\n",
        "print(\"Mean RMSE is - \",meanRMSE/splits)\n",
        "print(\"Mean MAE is - \",meanMAE/splits)"
      ],
      "execution_count": 0,
      "outputs": [
        {
          "output_type": "stream",
          "text": [
            "Computing the msd similarity matrix...\n",
            "Done computing similarity matrix.\n",
            "<surprise.trainset.Trainset object at 0x7f5dd472b470>\n",
            "RMSE: 0.9834\n",
            "MAE:  0.7803\n",
            "Computing the msd similarity matrix...\n",
            "Done computing similarity matrix.\n",
            "<surprise.trainset.Trainset object at 0x7f5df7fa1320>\n",
            "RMSE: 0.9855\n",
            "MAE:  0.7808\n",
            "Computing the msd similarity matrix...\n",
            "Done computing similarity matrix.\n",
            "<surprise.trainset.Trainset object at 0x7f5dd2739a90>\n",
            "RMSE: 0.9890\n",
            "MAE:  0.7823\n",
            "Mean RMSE is -  0.9859508208402726\n",
            "Mean MAE is -  0.7811283517321658\n"
          ],
          "name": "stdout"
        }
      ]
    },
    {
      "cell_type": "markdown",
      "metadata": {
        "id": "Ca-dyt_Vs2Mn",
        "colab_type": "text"
      },
      "source": [
        "**Ans 10: Compare the performances of User-based collaborative filtering, item-based collaborative\n",
        "filtering, SVD, PMF, NMF on fold-1 with respect to RMSE and MAE**"
      ]
    },
    {
      "cell_type": "code",
      "metadata": {
        "id": "aooBPsPNBG4N",
        "colab_type": "code",
        "outputId": "e8d9101e-03ab-47fa-966a-bc35283ac9e0",
        "colab": {
          "base_uri": "https://localhost:8080/",
          "height": 263
        }
      },
      "source": [
        "oneFold = 1;\n",
        "kf = KFold(n_splits=oneFold)\n",
        "list=[\"SVD\",\"PMF\",\"NMF\",\"USERBASED\",\"ITEMBASED\"]\n",
        "for trainset, testset in kf.split(data):\n",
        "  for i in list:\n",
        "    train = trainset\n",
        "    test = testset\n",
        "    meanRMSE = 0;\n",
        "    meanMAE = 0;\n",
        "    algo =NMF()\n",
        "    if i==\"USERBASED\":\n",
        "      algo = KNNBasic(sim_options = {'user_based': True})\n",
        "    elif i==\"ITEMBASED\":\n",
        "      algo = KNNBasic(sim_options = {'user_based': False})\n",
        "    elif i==\"SVD\":\n",
        "      algo = SVD()\n",
        "    elif i==\"PMF\":\n",
        "      algo = SVD(biased=False)\n",
        "    algo.fit(train)\n",
        "    predictions = algo.test(test)\n",
        "    print(\"RMSE for \",i,\" is - \",accuracy.rmse(predictions, verbose=False))\n",
        "    print(\"MAE for \",i ,\" is - \",accuracy.mae(predictions, verbose=False))\n",
        "  break;\n"
      ],
      "execution_count": 0,
      "outputs": [
        {
          "output_type": "stream",
          "text": [
            "RMSE for  SVD  is  0.9565343107787299\n",
            "MAE for  SVD  is -  0.7551149053710124\n",
            "RMSE for  PMF  is  0.9991845077178072\n",
            "MAE for  PMF  is -  0.7884668856261288\n",
            "RMSE for  NMF  is  0.9972716043791015\n",
            "MAE for  NMF  is -  0.7826075974377034\n",
            "Computing the msd similarity matrix...\n",
            "Done computing similarity matrix.\n",
            "RMSE for  USERBASED  is  1.0029670698194078\n",
            "MAE for  USERBASED  is -  0.7920659345053462\n",
            "Computing the msd similarity matrix...\n",
            "Done computing similarity matrix.\n",
            "RMSE for  ITEMBASED  is  1.0058230619669115\n",
            "MAE for  ITEMBASED  is -  0.7979401770771852\n"
          ],
          "name": "stdout"
        }
      ]
    },
    {
      "cell_type": "markdown",
      "metadata": {
        "id": "5oublwziNsOL",
        "colab_type": "text"
      },
      "source": [
        "**Ans 11: Compare the performances of User-based collaborative filtering, item-based collaborative\n",
        "filtering, SVD, PMF, NMF on fold-2 with respect to RMSE and MAE**"
      ]
    },
    {
      "cell_type": "code",
      "metadata": {
        "id": "-TsiAdM3NwpD",
        "colab_type": "code",
        "outputId": "beaec54f-2fc5-4e26-e800-b21a03faa7ef",
        "colab": {
          "base_uri": "https://localhost:8080/",
          "height": 210
        }
      },
      "source": [
        "import array as arr\n",
        "twoFold = 2;\n",
        "kf = KFold(n_splits=twoFold)\n",
        "list=[\"SVD\",\"PMF\",\"NMF\",\"USERBASED\",\"ITEMBASED\"]\n",
        "meanRMSE = arr.array('d', [0.0]*5)\n",
        "meanMAE = arr.array('d', [0.0]*5)\n",
        "for trainset, testset in kf.split(data):\n",
        "  for i in range(len(meanRMSE)):\n",
        "    train = trainset\n",
        "    test = testset\n",
        "    algo =NMF()\n",
        "    if i==\"USERBASED\":\n",
        "      algo = KNNBasic(sim_options = {'user_based': True})\n",
        "    elif i==\"ITEMBASED\":\n",
        "      algo = KNNBasic(sim_options = {'user_based': False})\n",
        "    elif i==\"SVD\":\n",
        "      algo = SVD()\n",
        "    elif i==\"PMF\":\n",
        "      algo = SVD(biased=False)\n",
        "    algo.fit(train)\n",
        "    predictions = algo.test(test)\n",
        "    meanRMSE[i] = meanRMSE[i] + (accuracy.rmse(predictions, verbose=False)/2.0)\n",
        "    meanMAE[i] = meanMAE[i] + (accuracy.mae(predictions, verbose=False)/2.0)\n",
        "for i in range(0,5):\n",
        "  print(\"RMSE for \",list[i],\" is - \",meanRMSE[i])\n",
        "  print(\"MAE for \",list[i],\" is - \",meanMAE[i])"
      ],
      "execution_count": 0,
      "outputs": [
        {
          "output_type": "stream",
          "text": [
            "0.0\n",
            "RMSE for  SVD  is  0.9933966507865468\n",
            "MAE for  SVD  is -  0.7801038838673917\n",
            "RMSE for  PMF  is  0.9927987061695425\n",
            "MAE for  PMF  is -  0.77948475780966\n",
            "RMSE for  NMF  is  0.9938206341931322\n",
            "MAE for  NMF  is -  0.7807597012624917\n",
            "RMSE for  USERBASED  is  0.9976863980684039\n",
            "MAE for  USERBASED  is -  0.7825906964772669\n",
            "RMSE for  ITEMBASED  is  0.9946025683694932\n",
            "MAE for  ITEMBASED  is -  0.7804005872053501\n"
          ],
          "name": "stdout"
        }
      ]
    },
    {
      "cell_type": "markdown",
      "metadata": {
        "id": "EL4IQJLJ_u4X",
        "colab_type": "text"
      },
      "source": [
        "**Ans 12: Compare the performances of User-based collaborative filtering, item-based collaborative\n",
        "filtering, SVD, PMF, NMF on fold-3 with respect to RMSE and MAE.**"
      ]
    },
    {
      "cell_type": "code",
      "metadata": {
        "id": "sMymObeh_2Pl",
        "colab_type": "code",
        "outputId": "e4d9aa72-b2bf-4adc-cb60-28e3a1a2160b",
        "colab": {
          "base_uri": "https://localhost:8080/",
          "height": 210
        }
      },
      "source": [
        "import array as arr\n",
        "twoFold = 3;\n",
        "kf = KFold(n_splits=twoFold)\n",
        "list=[\"SVD\",\"PMF\",\"NMF\",\"USERBASED\",\"ITEMBASED\"]\n",
        "meanRMSE = arr.array('d', [0.0]*5)\n",
        "meanMAE = arr.array('d', [0.0]*5)\n",
        "for trainset, testset in kf.split(data):\n",
        "  for i in range(len(meanRMSE)):\n",
        "    train = trainset\n",
        "    test = testset\n",
        "    algo =NMF()\n",
        "    if i==\"USERBASED\":\n",
        "      algo = KNNBasic(sim_options = {'user_based': True})\n",
        "    elif i==\"ITEMBASED\":\n",
        "      algo = KNNBasic(sim_options = {'user_based': False})\n",
        "    elif i==\"SVD\":\n",
        "      algo = SVD()\n",
        "    elif i==\"PMF\":\n",
        "      algo = SVD(biased=False)\n",
        "    algo.fit(train)\n",
        "    predictions = algo.test(test)\n",
        "    meanRMSE[i] = meanRMSE[i] + (accuracy.rmse(predictions, verbose=False)/2.0)\n",
        "    meanMAE[i] = meanMAE[i] + (accuracy.mae(predictions, verbose=False)/2.0)\n",
        "for i in range(0,5):\n",
        "  print(\"RMSE for \",list[i],\" is - \",meanRMSE[i])\n",
        "  print(\"MAE for \",list[i],\" is - \",meanMAE[i])"
      ],
      "execution_count": 0,
      "outputs": [
        {
          "output_type": "stream",
          "text": [
            "0.0\n",
            "RMSE for  SVD  is -  1.4567383792731543\n",
            "MAE for  SVD  is -  1.1440984554811309\n",
            "RMSE for  PMF  is -  1.462882167875699\n",
            "MAE for  PMF  is -  1.1487210975279938\n",
            "RMSE for  NMF  is -  1.4622766328334764\n",
            "MAE for  NMF  is -  1.1477924301742475\n",
            "RMSE for  USERBASED  is -  1.4656723082918715\n",
            "MAE for  USERBASED  is -  1.1508292160976752\n",
            "RMSE for  ITEMBASED  is -  1.4632693046504859\n",
            "MAE for  ITEMBASED  is -  1.1491452204001817\n"
          ],
          "name": "stdout"
        }
      ]
    },
    {
      "cell_type": "markdown",
      "metadata": {
        "id": "aOLXW4FZARix",
        "colab_type": "text"
      },
      "source": [
        "**Ans 13: Compare the average (mean) performances of User-based collaborative filtering, itembased collaborative filtering, SVD, PMF, NMF with respect to RMSE and MAE**"
      ]
    },
    {
      "cell_type": "code",
      "metadata": {
        "id": "tyuZgXcg_z91",
        "colab_type": "code",
        "colab": {}
      },
      "source": [
        "import array as arr\n",
        "twoFold = 3;\n",
        "kf = KFold(n_splits=twoFold)\n",
        "list=[\"SVD\",\"PMF\",\"NMF\",\"USERBASED\",\"ITEMBASED\"]\n",
        "meanRMSE = arr.array('d', [0.0]*5)\n",
        "meanMAE = arr.array('d', [0.0]*5)\n",
        "for trainset, testset in kf.split(data):\n",
        "  for i in range(len(meanRMSE)):\n",
        "    train = trainset\n",
        "    test = testset\n",
        "    algo =NMF()\n",
        "    if i==\"USERBASED\":\n",
        "      algo = KNNBasic(sim_options = {'user_based': True})\n",
        "    elif i==\"ITEMBASED\":\n",
        "      algo = KNNBasic(sim_options = {'user_based': False})\n",
        "    elif i==\"SVD\":\n",
        "      algo = SVD()\n",
        "    elif i==\"PMF\":\n",
        "      algo = SVD(biased=False)\n",
        "    algo.fit(train)\n",
        "    predictions = algo.test(test)\n",
        "    meanRMSE[i] = meanRMSE[i] + (accuracy.rmse(predictions, verbose=False)/2.0)\n",
        "    meanMAE[i] = meanMAE[i] + (accuracy.mae(predictions, verbose=False)/2.0)\n",
        "for i in range(0,5):\n",
        "  print(\"RMSE for \",list[i],\" is - \",meanRMSE[i])\n",
        "  print(\"MAE for \",list[i],\" is - \",meanMAE[i])"
      ],
      "execution_count": 0,
      "outputs": []
    },
    {
      "cell_type": "markdown",
      "metadata": {
        "id": "fA1N-pH2Ank3",
        "colab_type": "text"
      },
      "source": [
        "**Ans 14: Examine how the cosine, MSD (Mean Squared Difference), and Pearson similarities impact\n",
        "the performances of User based Collaborative Filtering and Item based Collaborative\n",
        "Filtering.**"
      ]
    },
    {
      "cell_type": "code",
      "metadata": {
        "id": "tn3QIVODAst1",
        "colab_type": "code",
        "colab": {
          "base_uri": "https://localhost:8080/",
          "height": 1000
        },
        "outputId": "2bf6164a-fb18-4179-9a86-ea5db22cf808"
      },
      "source": [
        "import array as arr\n",
        "twoFold = 3;\n",
        "kf = KFold(n_splits=twoFold)\n",
        "count =1\n",
        "for trainset, testset in kf.split(data):\n",
        "    train = trainset\n",
        "    test = testset\n",
        "    algo1 = KNNBasic(sim_options = {'name':'cosine','user_based': True})\n",
        "    algo2 = KNNBasic(sim_options = {'name':'MSD','user_based': True})\n",
        "    algo3 = KNNBasic(sim_options = {'name':'pearson','user_based': True})\n",
        "    algo4 = KNNBasic(sim_options = {'name':'cosine','user_based': False})\n",
        "    algo5 = KNNBasic(sim_options = {'name':'MSD','user_based': False})\n",
        "    algo6 = KNNBasic(sim_options = {'name':'pearson','user_based': False})\n",
        "    algo1.fit(train)\n",
        "    algo2.fit(train)\n",
        "    algo3.fit(train)\n",
        "    algo4.fit(train)\n",
        "    algo5.fit(train)\n",
        "    algo6.fit(train)\n",
        "    predictions1 = algo1.test(test)\n",
        "    predictions2 = algo2.test(test)\n",
        "    predictions3 = algo3.test(test)\n",
        "    predictions4 = algo4.test(test)\n",
        "    predictions5 = algo5.test(test)\n",
        "    predictions6 = algo6.test(test)\n",
        "    print(\"RMSE for cosine similarity of User based Filtering for fold \",count,\" is \",accuracy.rmse(predictions1, verbose=False))\n",
        "    print(\"MAE for cosine similarity of User based Filtering for fold \",count,\" is \",accuracy.mae(predictions1, verbose=False))\n",
        "    print(\"RMSE for MSD similarity of User based Filtering for fold \",count,\" is \",accuracy.rmse(predictions2, verbose=False))\n",
        "    print(\"MAE for MSD similarity of User based Filtering for fold \",count,\" is \",accuracy.mae(predictions2, verbose=False))\n",
        "    print(\"RMSE for pearson similarity of User based Filtering for fold \",count,\" is \",accuracy.rmse(predictions3, verbose=False))\n",
        "    print(\"MAE for pearson similarity of User based Filtering for fold \",count,\" is \",accuracy.mae(predictions3, verbose=False))\n",
        "    print(\"RMSE for cosine similarity of Item based Filtering for fold \",count,\" is \",accuracy.rmse(predictions4, verbose=False))\n",
        "    print(\"MAE for cosine similarity of Item based Filtering for fold \",count,\" is \",accuracy.mae(predictions4, verbose=False))\n",
        "    print(\"RMSE for MSD similarity of Item based Filtering for fold \",count,\" is \",accuracy.rmse(predictions5, verbose=False))\n",
        "    print(\"MAE for MSD similarity of Item based Filtering for fold \",count,\" is \",accuracy.mae(predictions5, verbose=False))\n",
        "    print(\"RMSE for pearson similarity of Item based Filtering for fold \",count,\" is \",accuracy.rmse(predictions6, verbose=False))\n",
        "    print(\"MAE for pearson similarity of Item based Filtering for fold \",count,\" is \",accuracy.mae(predictions6, verbose=False))\n",
        "    count = count+1"
      ],
      "execution_count": 5,
      "outputs": [
        {
          "output_type": "stream",
          "text": [
            "Computing the cosine similarity matrix...\n",
            "Done computing similarity matrix.\n",
            "Computing the msd similarity matrix...\n",
            "Done computing similarity matrix.\n",
            "Computing the pearson similarity matrix...\n",
            "Done computing similarity matrix.\n",
            "Computing the cosine similarity matrix...\n",
            "Done computing similarity matrix.\n",
            "Computing the msd similarity matrix...\n",
            "Done computing similarity matrix.\n",
            "Computing the pearson similarity matrix...\n",
            "Done computing similarity matrix.\n",
            "RMSE for cosine similarity of User based Filtering for fold  1  is  1.0190710006244823\n",
            "MAE for cosine similarity of User based Filtering for fold  1  is  0.8071306284662321\n",
            "RMSE for MSD similarity of User based Filtering for fold  1  is  0.9863379459278322\n",
            "MAE for MSD similarity of User based Filtering for fold  1  is  0.7800651323479811\n",
            "RMSE for pearson similarity of User based Filtering for fold  1  is  1.0172718831700505\n",
            "MAE for pearson similarity of User based Filtering for fold  1  is  0.8078041005116197\n",
            "RMSE for cosine similarity of Collaborative based Filtering for fold  1  is  1.0297689511241277\n",
            "MAE for cosine similarity of Collaborative based Filtering for fold  1  is  0.8185496528938508\n",
            "RMSE for MSD similarity of Collaborative based Filtering for fold  1  is  0.9753531504762413\n",
            "MAE for MSD similarity of Collaborative based Filtering for fold  1  is  0.7742572581110132\n",
            "RMSE for pearson similarity of Collaborative based Filtering for fold  1  is  1.039106803179248\n",
            "MAE for pearson similarity of Collaborative based Filtering for fold  1  is  0.8326951605588528\n",
            "Computing the cosine similarity matrix...\n",
            "Done computing similarity matrix.\n",
            "Computing the msd similarity matrix...\n",
            "Done computing similarity matrix.\n",
            "Computing the pearson similarity matrix...\n",
            "Done computing similarity matrix.\n",
            "Computing the cosine similarity matrix...\n",
            "Done computing similarity matrix.\n",
            "Computing the msd similarity matrix...\n",
            "Done computing similarity matrix.\n",
            "Computing the pearson similarity matrix...\n",
            "Done computing similarity matrix.\n",
            "RMSE for cosine similarity of User based Filtering for fold  2  is  1.0283366958382867\n",
            "MAE for cosine similarity of User based Filtering for fold  2  is  0.8117381636701845\n",
            "RMSE for MSD similarity of User based Filtering for fold  2  is  0.9959987048308174\n",
            "MAE for MSD similarity of User based Filtering for fold  2  is  0.7847346899553936\n",
            "RMSE for pearson similarity of User based Filtering for fold  2  is  1.026527372988843\n",
            "MAE for pearson similarity of User based Filtering for fold  2  is  0.8121283852833769\n",
            "RMSE for cosine similarity of Collaborative based Filtering for fold  2  is  1.0406721950638265\n",
            "MAE for cosine similarity of Collaborative based Filtering for fold  2  is  0.8253263298433997\n",
            "RMSE for MSD similarity of Collaborative based Filtering for fold  2  is  0.9919833521337414\n",
            "MAE for MSD similarity of Collaborative based Filtering for fold  2  is  0.7843047365017303\n",
            "RMSE for pearson similarity of Collaborative based Filtering for fold  2  is  1.050900369866823\n",
            "MAE for pearson similarity of Collaborative based Filtering for fold  2  is  0.8405370039128315\n",
            "Computing the cosine similarity matrix...\n",
            "Done computing similarity matrix.\n",
            "Computing the msd similarity matrix...\n",
            "Done computing similarity matrix.\n",
            "Computing the pearson similarity matrix...\n",
            "Done computing similarity matrix.\n",
            "Computing the cosine similarity matrix...\n",
            "Done computing similarity matrix.\n",
            "Computing the msd similarity matrix...\n",
            "Done computing similarity matrix.\n",
            "Computing the pearson similarity matrix...\n",
            "Done computing similarity matrix.\n",
            "RMSE for cosine similarity of User based Filtering for fold  3  is  1.0175501008548236\n",
            "MAE for cosine similarity of User based Filtering for fold  3  is  0.8059555698259337\n",
            "RMSE for MSD similarity of User based Filtering for fold  3  is  0.984514741946479\n",
            "MAE for MSD similarity of User based Filtering for fold  3  is  0.7785296574539731\n",
            "RMSE for pearson similarity of User based Filtering for fold  3  is  1.0193311775384697\n",
            "MAE for pearson similarity of User based Filtering for fold  3  is  0.8097986872909588\n",
            "RMSE for cosine similarity of Collaborative based Filtering for fold  3  is  1.0356662203723028\n",
            "MAE for cosine similarity of Collaborative based Filtering for fold  3  is  0.8210489793735553\n",
            "RMSE for MSD similarity of Collaborative based Filtering for fold  3  is  0.9867484829904326\n",
            "MAE for MSD similarity of Collaborative based Filtering for fold  3  is  0.7803291558137994\n",
            "RMSE for pearson similarity of Collaborative based Filtering for fold  3  is  1.0491946854506629\n",
            "MAE for pearson similarity of Collaborative based Filtering for fold  3  is  0.8382314410172759\n"
          ],
          "name": "stdout"
        }
      ]
    },
    {
      "cell_type": "markdown",
      "metadata": {
        "id": "78OrgOLZV0uh",
        "colab_type": "text"
      },
      "source": [
        "**Ans 15: Examine how the number of neighbors impacts the performances of User based\n",
        "Collaborative Filtering or Item based Collaborative Filtering**"
      ]
    },
    {
      "cell_type": "code",
      "metadata": {
        "id": "SiDKxrpEV-Rp",
        "colab_type": "code",
        "colab": {
          "base_uri": "https://localhost:8080/",
          "height": 1000
        },
        "outputId": "56e72115-83cd-4217-a5e8-45b9a4d55678"
      },
      "source": [
        "import array as arr\n",
        "twoFold = 3;\n",
        "kf = KFold(n_splits=twoFold)\n",
        "for i in range(1,30):\n",
        "  meanRMSEUser = 0.0\n",
        "  meanRMSEItem = 0.0\n",
        "  for trainset, testset in kf.split(data):\n",
        "    train = trainset\n",
        "    test = testset\n",
        "    algo1 = KNNBasic(k=i, sim_options = {'name':'MSD', 'user_based': True })\n",
        "    algo2= KNNBasic(k=i, sim_options = {'name':'MSD', 'user_based': False })\n",
        "    algo1.fit(train)\n",
        "    algo2.fit(train)\n",
        "    predictions1 = algo1.test(test)\n",
        "    predictions2 = algo2.test(test)\n",
        "    meanRMSEUser = meanRMSEUser + (accuracy.rmse(predictions1, verbose=False)/2.0)\n",
        "    meanRMSEItem = meanRMSEItem + (accuracy.rmse(predictions2, verbose=False)/2.0)\n",
        "  print(\"RMSE for Userbased for \",i,\" neighbour is - \",meanRMSEUser)\n",
        "  print(\"RMSE for ITEMBASED for \",i,\" neighbour is - \",meanRMSEItem)"
      ],
      "execution_count": 10,
      "outputs": [
        {
          "output_type": "stream",
          "text": [
            "Computing the msd similarity matrix...\n",
            "Done computing similarity matrix.\n",
            "Computing the msd similarity matrix...\n",
            "Done computing similarity matrix.\n",
            "Computing the msd similarity matrix...\n",
            "Done computing similarity matrix.\n",
            "Computing the msd similarity matrix...\n",
            "Done computing similarity matrix.\n",
            "Computing the msd similarity matrix...\n",
            "Done computing similarity matrix.\n",
            "Computing the msd similarity matrix...\n",
            "Done computing similarity matrix.\n",
            "RMSE for Userbased for  1  neighbour is -  1.995110659375021\n",
            "RMSE for ITEMBASED for  1  neighbour is -  2.1481431617598084\n",
            "Computing the msd similarity matrix...\n",
            "Done computing similarity matrix.\n",
            "Computing the msd similarity matrix...\n",
            "Done computing similarity matrix.\n",
            "Computing the msd similarity matrix...\n",
            "Done computing similarity matrix.\n",
            "Computing the msd similarity matrix...\n",
            "Done computing similarity matrix.\n",
            "Computing the msd similarity matrix...\n",
            "Done computing similarity matrix.\n",
            "Computing the msd similarity matrix...\n",
            "Done computing similarity matrix.\n",
            "RMSE for Userbased for  2  neighbour is -  1.7297793553729097\n",
            "RMSE for ITEMBASED for  2  neighbour is -  1.848416139634368\n",
            "Computing the msd similarity matrix...\n",
            "Done computing similarity matrix.\n",
            "Computing the msd similarity matrix...\n",
            "Done computing similarity matrix.\n",
            "Computing the msd similarity matrix...\n",
            "Done computing similarity matrix.\n",
            "Computing the msd similarity matrix...\n",
            "Done computing similarity matrix.\n",
            "Computing the msd similarity matrix...\n",
            "Done computing similarity matrix.\n",
            "Computing the msd similarity matrix...\n",
            "Done computing similarity matrix.\n",
            "RMSE for Userbased for  3  neighbour is -  1.6311032774762515\n",
            "RMSE for ITEMBASED for  3  neighbour is -  1.7321230842738071\n",
            "Computing the msd similarity matrix...\n",
            "Done computing similarity matrix.\n",
            "Computing the msd similarity matrix...\n",
            "Done computing similarity matrix.\n",
            "Computing the msd similarity matrix...\n",
            "Done computing similarity matrix.\n",
            "Computing the msd similarity matrix...\n",
            "Done computing similarity matrix.\n",
            "Computing the msd similarity matrix...\n",
            "Done computing similarity matrix.\n",
            "Computing the msd similarity matrix...\n",
            "Done computing similarity matrix.\n",
            "RMSE for Userbased for  4  neighbour is -  1.5884116340679808\n",
            "RMSE for ITEMBASED for  4  neighbour is -  1.6677110155433637\n",
            "Computing the msd similarity matrix...\n",
            "Done computing similarity matrix.\n",
            "Computing the msd similarity matrix...\n",
            "Done computing similarity matrix.\n",
            "Computing the msd similarity matrix...\n",
            "Done computing similarity matrix.\n",
            "Computing the msd similarity matrix...\n",
            "Done computing similarity matrix.\n",
            "Computing the msd similarity matrix...\n",
            "Done computing similarity matrix.\n",
            "Computing the msd similarity matrix...\n",
            "Done computing similarity matrix.\n",
            "RMSE for Userbased for  5  neighbour is -  1.5563732181957648\n",
            "RMSE for ITEMBASED for  5  neighbour is -  1.6230818298563654\n",
            "Computing the msd similarity matrix...\n",
            "Done computing similarity matrix.\n",
            "Computing the msd similarity matrix...\n",
            "Done computing similarity matrix.\n",
            "Computing the msd similarity matrix...\n",
            "Done computing similarity matrix.\n",
            "Computing the msd similarity matrix...\n",
            "Done computing similarity matrix.\n",
            "Computing the msd similarity matrix...\n",
            "Done computing similarity matrix.\n",
            "Computing the msd similarity matrix...\n",
            "Done computing similarity matrix.\n",
            "RMSE for Userbased for  6  neighbour is -  1.5370620639325168\n",
            "RMSE for ITEMBASED for  6  neighbour is -  1.5991119242872478\n",
            "Computing the msd similarity matrix...\n",
            "Done computing similarity matrix.\n",
            "Computing the msd similarity matrix...\n",
            "Done computing similarity matrix.\n",
            "Computing the msd similarity matrix...\n",
            "Done computing similarity matrix.\n",
            "Computing the msd similarity matrix...\n",
            "Done computing similarity matrix.\n",
            "Computing the msd similarity matrix...\n",
            "Done computing similarity matrix.\n",
            "Computing the msd similarity matrix...\n",
            "Done computing similarity matrix.\n",
            "RMSE for Userbased for  7  neighbour is -  1.5261474237449806\n",
            "RMSE for ITEMBASED for  7  neighbour is -  1.5745898778170253\n",
            "Computing the msd similarity matrix...\n",
            "Done computing similarity matrix.\n",
            "Computing the msd similarity matrix...\n",
            "Done computing similarity matrix.\n",
            "Computing the msd similarity matrix...\n",
            "Done computing similarity matrix.\n",
            "Computing the msd similarity matrix...\n",
            "Done computing similarity matrix.\n",
            "Computing the msd similarity matrix...\n",
            "Done computing similarity matrix.\n",
            "Computing the msd similarity matrix...\n",
            "Done computing similarity matrix.\n",
            "RMSE for Userbased for  8  neighbour is -  1.5139534726900932\n",
            "RMSE for ITEMBASED for  8  neighbour is -  1.5556695848798663\n",
            "Computing the msd similarity matrix...\n",
            "Done computing similarity matrix.\n",
            "Computing the msd similarity matrix...\n",
            "Done computing similarity matrix.\n",
            "Computing the msd similarity matrix...\n",
            "Done computing similarity matrix.\n",
            "Computing the msd similarity matrix...\n",
            "Done computing similarity matrix.\n",
            "Computing the msd similarity matrix...\n",
            "Done computing similarity matrix.\n",
            "Computing the msd similarity matrix...\n",
            "Done computing similarity matrix.\n",
            "RMSE for Userbased for  9  neighbour is -  1.506159906874103\n",
            "RMSE for ITEMBASED for  9  neighbour is -  1.547157280607831\n",
            "Computing the msd similarity matrix...\n",
            "Done computing similarity matrix.\n",
            "Computing the msd similarity matrix...\n",
            "Done computing similarity matrix.\n",
            "Computing the msd similarity matrix...\n",
            "Done computing similarity matrix.\n",
            "Computing the msd similarity matrix...\n",
            "Done computing similarity matrix.\n",
            "Computing the msd similarity matrix...\n",
            "Done computing similarity matrix.\n",
            "Computing the msd similarity matrix...\n",
            "Done computing similarity matrix.\n",
            "RMSE for Userbased for  10  neighbour is -  1.5005656453153162\n",
            "RMSE for ITEMBASED for  10  neighbour is -  1.5354257213157338\n",
            "Computing the msd similarity matrix...\n",
            "Done computing similarity matrix.\n",
            "Computing the msd similarity matrix...\n",
            "Done computing similarity matrix.\n",
            "Computing the msd similarity matrix...\n",
            "Done computing similarity matrix.\n",
            "Computing the msd similarity matrix...\n",
            "Done computing similarity matrix.\n",
            "Computing the msd similarity matrix...\n",
            "Done computing similarity matrix.\n",
            "Computing the msd similarity matrix...\n",
            "Done computing similarity matrix.\n",
            "RMSE for Userbased for  11  neighbour is -  1.4922637588551084\n",
            "RMSE for ITEMBASED for  11  neighbour is -  1.5279208132218236\n",
            "Computing the msd similarity matrix...\n",
            "Done computing similarity matrix.\n",
            "Computing the msd similarity matrix...\n",
            "Done computing similarity matrix.\n",
            "Computing the msd similarity matrix...\n",
            "Done computing similarity matrix.\n",
            "Computing the msd similarity matrix...\n",
            "Done computing similarity matrix.\n",
            "Computing the msd similarity matrix...\n",
            "Done computing similarity matrix.\n",
            "Computing the msd similarity matrix...\n",
            "Done computing similarity matrix.\n",
            "RMSE for Userbased for  12  neighbour is -  1.4917529503958837\n",
            "RMSE for ITEMBASED for  12  neighbour is -  1.5216784984449536\n",
            "Computing the msd similarity matrix...\n",
            "Done computing similarity matrix.\n",
            "Computing the msd similarity matrix...\n",
            "Done computing similarity matrix.\n",
            "Computing the msd similarity matrix...\n",
            "Done computing similarity matrix.\n",
            "Computing the msd similarity matrix...\n",
            "Done computing similarity matrix.\n",
            "Computing the msd similarity matrix...\n",
            "Done computing similarity matrix.\n",
            "Computing the msd similarity matrix...\n",
            "Done computing similarity matrix.\n",
            "RMSE for Userbased for  13  neighbour is -  1.4906056614897631\n",
            "RMSE for ITEMBASED for  13  neighbour is -  1.5138487862764327\n",
            "Computing the msd similarity matrix...\n",
            "Done computing similarity matrix.\n",
            "Computing the msd similarity matrix...\n",
            "Done computing similarity matrix.\n",
            "Computing the msd similarity matrix...\n",
            "Done computing similarity matrix.\n",
            "Computing the msd similarity matrix...\n",
            "Done computing similarity matrix.\n",
            "Computing the msd similarity matrix...\n",
            "Done computing similarity matrix.\n",
            "Computing the msd similarity matrix...\n",
            "Done computing similarity matrix.\n",
            "RMSE for Userbased for  14  neighbour is -  1.487176870757749\n",
            "RMSE for ITEMBASED for  14  neighbour is -  1.5106983403225467\n",
            "Computing the msd similarity matrix...\n",
            "Done computing similarity matrix.\n",
            "Computing the msd similarity matrix...\n",
            "Done computing similarity matrix.\n",
            "Computing the msd similarity matrix...\n",
            "Done computing similarity matrix.\n",
            "Computing the msd similarity matrix...\n",
            "Done computing similarity matrix.\n",
            "Computing the msd similarity matrix...\n",
            "Done computing similarity matrix.\n",
            "Computing the msd similarity matrix...\n",
            "Done computing similarity matrix.\n",
            "RMSE for Userbased for  15  neighbour is -  1.4877851578289105\n",
            "RMSE for ITEMBASED for  15  neighbour is -  1.5054678480661394\n",
            "Computing the msd similarity matrix...\n",
            "Done computing similarity matrix.\n",
            "Computing the msd similarity matrix...\n",
            "Done computing similarity matrix.\n",
            "Computing the msd similarity matrix...\n",
            "Done computing similarity matrix.\n",
            "Computing the msd similarity matrix...\n",
            "Done computing similarity matrix.\n",
            "Computing the msd similarity matrix...\n",
            "Done computing similarity matrix.\n",
            "Computing the msd similarity matrix...\n",
            "Done computing similarity matrix.\n",
            "RMSE for Userbased for  16  neighbour is -  1.4817306615953942\n",
            "RMSE for ITEMBASED for  16  neighbour is -  1.500311090546009\n",
            "Computing the msd similarity matrix...\n",
            "Done computing similarity matrix.\n",
            "Computing the msd similarity matrix...\n",
            "Done computing similarity matrix.\n",
            "Computing the msd similarity matrix...\n",
            "Done computing similarity matrix.\n",
            "Computing the msd similarity matrix...\n",
            "Done computing similarity matrix.\n",
            "Computing the msd similarity matrix...\n",
            "Done computing similarity matrix.\n",
            "Computing the msd similarity matrix...\n",
            "Done computing similarity matrix.\n",
            "RMSE for Userbased for  17  neighbour is -  1.483667369847569\n",
            "RMSE for ITEMBASED for  17  neighbour is -  1.496040411581209\n",
            "Computing the msd similarity matrix...\n",
            "Done computing similarity matrix.\n",
            "Computing the msd similarity matrix...\n",
            "Done computing similarity matrix.\n",
            "Computing the msd similarity matrix...\n",
            "Done computing similarity matrix.\n",
            "Computing the msd similarity matrix...\n",
            "Done computing similarity matrix.\n",
            "Computing the msd similarity matrix...\n",
            "Done computing similarity matrix.\n",
            "Computing the msd similarity matrix...\n",
            "Done computing similarity matrix.\n",
            "RMSE for Userbased for  18  neighbour is -  1.4789697606815526\n",
            "RMSE for ITEMBASED for  18  neighbour is -  1.495808162621782\n",
            "Computing the msd similarity matrix...\n",
            "Done computing similarity matrix.\n",
            "Computing the msd similarity matrix...\n",
            "Done computing similarity matrix.\n",
            "Computing the msd similarity matrix...\n",
            "Done computing similarity matrix.\n",
            "Computing the msd similarity matrix...\n",
            "Done computing similarity matrix.\n",
            "Computing the msd similarity matrix...\n",
            "Done computing similarity matrix.\n",
            "Computing the msd similarity matrix...\n",
            "Done computing similarity matrix.\n",
            "RMSE for Userbased for  19  neighbour is -  1.4823087832066721\n",
            "RMSE for ITEMBASED for  19  neighbour is -  1.4930539762212502\n",
            "Computing the msd similarity matrix...\n",
            "Done computing similarity matrix.\n",
            "Computing the msd similarity matrix...\n",
            "Done computing similarity matrix.\n",
            "Computing the msd similarity matrix...\n",
            "Done computing similarity matrix.\n",
            "Computing the msd similarity matrix...\n",
            "Done computing similarity matrix.\n",
            "Computing the msd similarity matrix...\n",
            "Done computing similarity matrix.\n",
            "Computing the msd similarity matrix...\n",
            "Done computing similarity matrix.\n",
            "RMSE for Userbased for  20  neighbour is -  1.4787035967843263\n",
            "RMSE for ITEMBASED for  20  neighbour is -  1.4903635517904807\n",
            "Computing the msd similarity matrix...\n",
            "Done computing similarity matrix.\n",
            "Computing the msd similarity matrix...\n",
            "Done computing similarity matrix.\n",
            "Computing the msd similarity matrix...\n",
            "Done computing similarity matrix.\n",
            "Computing the msd similarity matrix...\n",
            "Done computing similarity matrix.\n",
            "Computing the msd similarity matrix...\n",
            "Done computing similarity matrix.\n",
            "Computing the msd similarity matrix...\n",
            "Done computing similarity matrix.\n",
            "RMSE for Userbased for  21  neighbour is -  1.4813562839307575\n",
            "RMSE for ITEMBASED for  21  neighbour is -  1.490171298158839\n",
            "Computing the msd similarity matrix...\n",
            "Done computing similarity matrix.\n",
            "Computing the msd similarity matrix...\n",
            "Done computing similarity matrix.\n",
            "Computing the msd similarity matrix...\n",
            "Done computing similarity matrix.\n",
            "Computing the msd similarity matrix...\n",
            "Done computing similarity matrix.\n",
            "Computing the msd similarity matrix...\n",
            "Done computing similarity matrix.\n",
            "Computing the msd similarity matrix...\n",
            "Done computing similarity matrix.\n",
            "RMSE for Userbased for  22  neighbour is -  1.47982438063003\n",
            "RMSE for ITEMBASED for  22  neighbour is -  1.4886903362562676\n",
            "Computing the msd similarity matrix...\n",
            "Done computing similarity matrix.\n",
            "Computing the msd similarity matrix...\n",
            "Done computing similarity matrix.\n",
            "Computing the msd similarity matrix...\n",
            "Done computing similarity matrix.\n",
            "Computing the msd similarity matrix...\n",
            "Done computing similarity matrix.\n",
            "Computing the msd similarity matrix...\n",
            "Done computing similarity matrix.\n",
            "Computing the msd similarity matrix...\n",
            "Done computing similarity matrix.\n",
            "RMSE for Userbased for  23  neighbour is -  1.4788348841897\n",
            "RMSE for ITEMBASED for  23  neighbour is -  1.485974623809808\n",
            "Computing the msd similarity matrix...\n",
            "Done computing similarity matrix.\n",
            "Computing the msd similarity matrix...\n",
            "Done computing similarity matrix.\n",
            "Computing the msd similarity matrix...\n",
            "Done computing similarity matrix.\n",
            "Computing the msd similarity matrix...\n",
            "Done computing similarity matrix.\n",
            "Computing the msd similarity matrix...\n",
            "Done computing similarity matrix.\n",
            "Computing the msd similarity matrix...\n",
            "Done computing similarity matrix.\n",
            "RMSE for Userbased for  24  neighbour is -  1.4791506066229376\n",
            "RMSE for ITEMBASED for  24  neighbour is -  1.4859929472688498\n",
            "Computing the msd similarity matrix...\n",
            "Done computing similarity matrix.\n",
            "Computing the msd similarity matrix...\n",
            "Done computing similarity matrix.\n",
            "Computing the msd similarity matrix...\n",
            "Done computing similarity matrix.\n",
            "Computing the msd similarity matrix...\n",
            "Done computing similarity matrix.\n",
            "Computing the msd similarity matrix...\n",
            "Done computing similarity matrix.\n",
            "Computing the msd similarity matrix...\n",
            "Done computing similarity matrix.\n",
            "RMSE for Userbased for  25  neighbour is -  1.4766770210720455\n",
            "RMSE for ITEMBASED for  25  neighbour is -  1.484108781822709\n",
            "Computing the msd similarity matrix...\n",
            "Done computing similarity matrix.\n",
            "Computing the msd similarity matrix...\n",
            "Done computing similarity matrix.\n",
            "Computing the msd similarity matrix...\n",
            "Done computing similarity matrix.\n",
            "Computing the msd similarity matrix...\n",
            "Done computing similarity matrix.\n",
            "Computing the msd similarity matrix...\n",
            "Done computing similarity matrix.\n",
            "Computing the msd similarity matrix...\n",
            "Done computing similarity matrix.\n",
            "RMSE for Userbased for  26  neighbour is -  1.480210495999826\n",
            "RMSE for ITEMBASED for  26  neighbour is -  1.4837092972327084\n",
            "Computing the msd similarity matrix...\n",
            "Done computing similarity matrix.\n",
            "Computing the msd similarity matrix...\n",
            "Done computing similarity matrix.\n",
            "Computing the msd similarity matrix...\n",
            "Done computing similarity matrix.\n",
            "Computing the msd similarity matrix...\n",
            "Done computing similarity matrix.\n",
            "Computing the msd similarity matrix...\n",
            "Done computing similarity matrix.\n",
            "Computing the msd similarity matrix...\n",
            "Done computing similarity matrix.\n",
            "RMSE for Userbased for  27  neighbour is -  1.478702741297787\n",
            "RMSE for ITEMBASED for  27  neighbour is -  1.4816094784180978\n",
            "Computing the msd similarity matrix...\n",
            "Done computing similarity matrix.\n",
            "Computing the msd similarity matrix...\n",
            "Done computing similarity matrix.\n",
            "Computing the msd similarity matrix...\n",
            "Done computing similarity matrix.\n",
            "Computing the msd similarity matrix...\n",
            "Done computing similarity matrix.\n",
            "Computing the msd similarity matrix...\n",
            "Done computing similarity matrix.\n",
            "Computing the msd similarity matrix...\n",
            "Done computing similarity matrix.\n",
            "RMSE for Userbased for  28  neighbour is -  1.4797306735701197\n",
            "RMSE for ITEMBASED for  28  neighbour is -  1.4834217068113884\n",
            "Computing the msd similarity matrix...\n",
            "Done computing similarity matrix.\n",
            "Computing the msd similarity matrix...\n",
            "Done computing similarity matrix.\n",
            "Computing the msd similarity matrix...\n",
            "Done computing similarity matrix.\n",
            "Computing the msd similarity matrix...\n",
            "Done computing similarity matrix.\n",
            "Computing the msd similarity matrix...\n",
            "Done computing similarity matrix.\n",
            "Computing the msd similarity matrix...\n",
            "Done computing similarity matrix.\n",
            "RMSE for Userbased for  29  neighbour is -  1.480712430833065\n",
            "RMSE for ITEMBASED for  29  neighbour is -  1.4809767320393405\n"
          ],
          "name": "stdout"
        }
      ]
    }
  ]
}