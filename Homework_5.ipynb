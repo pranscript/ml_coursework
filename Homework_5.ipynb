{
  "nbformat": 4,
  "nbformat_minor": 0,
  "metadata": {
    "colab": {
      "name": "Homework 5.ipynb",
      "provenance": [],
      "authorship_tag": "ABX9TyPsSFzbPRCyIwB4YSjaFZ35",
      "include_colab_link": true
    },
    "kernelspec": {
      "name": "python3",
      "display_name": "Python 3"
    }
  },
  "cells": [
    {
      "cell_type": "markdown",
      "metadata": {
        "id": "view-in-github",
        "colab_type": "text"
      },
      "source": [
        "<a href=\"https://colab.research.google.com/github/pranscript/ml_coursework/blob/master/Homework_5.ipynb\" target=\"_parent\"><img src=\"https://colab.research.google.com/assets/colab-badge.svg\" alt=\"Open In Colab\"/></a>"
      ]
    },
    {
      "cell_type": "code",
      "metadata": {
        "id": "2_IXiHbmLxdK",
        "colab_type": "code",
        "colab": {}
      },
      "source": [
        "from IPython.display import IFrame\n",
        "IFrame('http://archive.ics.uci.edu/ml/machine-learning-databases/iris/iris.data', width=400, height=200)"
      ],
      "execution_count": 0,
      "outputs": []
    },
    {
      "cell_type": "code",
      "metadata": {
        "id": "rKdwMxuLkBtn",
        "colab_type": "code",
        "colab": {}
      },
      "source": [
        "%matplotlib inline\n",
        "import matplotlib.pyplot as plt\n",
        "from sklearn.datasets import load_iris\n",
        "from sklearn.tree import DecisionTreeClassifier \n",
        "from sklearn import tree\n",
        "from sklearn.neighbors import KNeighborsClassifier\n",
        "from sklearn import metrics\n",
        "from sklearn.model_selection import KFold\n",
        "from sklearn.model_selection import cross_val_score\n",
        "import pickle "
      ],
      "execution_count": 0,
      "outputs": []
    },
    {
      "cell_type": "code",
      "metadata": {
        "id": "W33yz-2uMNsc",
        "colab_type": "code",
        "colab": {}
      },
      "source": [
        "iris = load_iris()\n",
        "X = iris.data\n",
        "Y = iris.target\n",
        "\n",
        "X_tree = iris.data\n",
        "Y_tree = iris.target"
      ],
      "execution_count": 0,
      "outputs": []
    },
    {
      "cell_type": "code",
      "metadata": {
        "id": "5HklSANAi0Ix",
        "colab_type": "code",
        "outputId": "4278e1a8-5892-4592-b929-117896935c88",
        "colab": {
          "base_uri": "https://localhost:8080/",
          "height": 54
        }
      },
      "source": [
        "dt_scores = []\n",
        "for k in range(2,30):\n",
        "    clf = tree.DecisionTreeClassifier(max_depth=k)\n",
        "    clf.fit(X,Y)\n",
        "    dt_model = pickle.dumps(clf)\n",
        "    with open('dt_estimator.txt', 'wb') as fid:\n",
        "      pickle.dump(clf, fid)\n",
        "    score = cross_val_score(estimator=clf, X=X, y=Y, cv=5)\n",
        "    dt_scores.append(score.mean()*100)\n",
        "print(dt_scores)"
      ],
      "execution_count": 295,
      "outputs": [
        {
          "output_type": "stream",
          "text": [
            "[93.33333333333333, 96.0, 95.33333333333334, 96.00000000000001, 96.66666666666669, 96.00000000000001, 96.66666666666669, 96.66666666666669, 95.33333333333334, 96.66666666666669, 95.33333333333334, 96.66666666666669, 95.33333333333334, 96.00000000000001, 96.66666666666669, 96.00000000000001, 95.33333333333334, 96.66666666666669, 96.66666666666669, 96.66666666666669, 96.66666666666669, 96.00000000000001, 96.66666666666669, 96.00000000000001, 96.66666666666669, 96.66666666666669, 96.00000000000001, 96.00000000000001]\n"
          ],
          "name": "stdout"
        }
      ]
    },
    {
      "cell_type": "code",
      "metadata": {
        "id": "UmZOVtM9f9O8",
        "colab_type": "code",
        "outputId": "c9e60fc4-2eca-4126-84f9-3fcd2caad785",
        "colab": {
          "base_uri": "https://localhost:8080/",
          "height": 54
        }
      },
      "source": [
        "knn_scores = {}\n",
        "knn_array = []\n",
        "\n",
        "for k in range(2, 30):\n",
        "  knn = KNeighborsClassifier(n_neighbors=k)\n",
        "  cv_scores = cross_val_score(knn, X, Y,cv=5)\n",
        "  knn_model = pickle.dumps(knn)\n",
        "  with open('knn_estimator.txt', 'wb') as fid:\n",
        "      pickle.dump(knn, fid)\n",
        "  knn_scores[k] = np.mean(cv_scores)*100\n",
        "for i in range(2, 30):\n",
        "  knn_array.append(knn_scores[i])\n",
        "print(knn_array)"
      ],
      "execution_count": 300,
      "outputs": [
        {
          "output_type": "stream",
          "text": [
            "[94.66666666666666, 96.66666666666669, 97.33333333333334, 97.33333333333334, 98.00000000000001, 98.00000000000001, 96.66666666666669, 97.33333333333334, 98.00000000000001, 98.00000000000001, 98.00000000000001, 97.33333333333334, 96.66666666666666, 96.66666666666669, 96.66666666666669, 96.66666666666669, 96.66666666666666, 96.66666666666669, 96.0, 96.66666666666669, 96.0, 96.0, 94.66666666666667, 96.0, 94.66666666666666, 94.66666666666667, 93.99999999999999, 93.33333333333333]\n"
          ],
          "name": "stdout"
        }
      ]
    },
    {
      "cell_type": "code",
      "metadata": {
        "id": "gQwve2Ppr2lI",
        "colab_type": "code",
        "outputId": "501fd3c0-68cc-4fa9-a46d-91571b59b033",
        "colab": {
          "base_uri": "https://localhost:8080/",
          "height": 297
        }
      },
      "source": [
        "plt.plot(range(2,30),knn_array)\n",
        "plt.plot(range(2,30),dt_scores)\n",
        "plt.xlabel('Value of K for KNN')\n",
        "plt.ylabel('Testing Accuracy')"
      ],
      "execution_count": 303,
      "outputs": [
        {
          "output_type": "execute_result",
          "data": {
            "text/plain": [
              "Text(0, 0.5, 'Testing Accuracy')"
            ]
          },
          "metadata": {
            "tags": []
          },
          "execution_count": 303
        },
        {
          "output_type": "display_data",
          "data": {
            "image/png": "[encoded data removed]",
            "text/plain": [
              "<Figure size 432x288 with 1 Axes>"
            ]
          },
          "metadata": {
            "tags": []
          }
        }
      ]
    },
    {
      "cell_type": "code",
      "metadata": {
        "colab_type": "code",
        "outputId": "351d31fb-fbe2-4fbc-b919-60eadc592a62",
        "id": "B7eEDeYuOxS6",
        "colab": {
          "base_uri": "https://localhost:8080/",
          "height": 279
        }
      },
      "source": [
        "num_bins = 20\n",
        "plt.yticks(range(2, 100))\n",
        "plt.xticks(range(2, 100))\n",
        "plt.hist(knn_array, num_bins, facecolor='blue', alpha=0.5, label='KNN')\n",
        "plt.hist(dt_scores, num_bins, facecolor='red', alpha=0.5,label='Tree')\n",
        "plt.xlabel('Accuracy',fontsize=10)\n",
        "plt.ylabel('KNN',fontsize=10)\n",
        "plt.legend()\n",
        "plt.show()"
      ],
      "execution_count": 0,
      "outputs": [
        {
          "output_type": "display_data",
          "data": {
            "image/png": "[encoded data removed]",
            "text/plain": [
              "<Figure size 432x288 with 1 Axes>"
            ]
          },
          "metadata": {
            "tags": []
          }
        }
      ]
    }
  ]
}